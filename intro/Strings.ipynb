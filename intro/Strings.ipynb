{
 "cells": [
  {
   "cell_type": "code",
   "execution_count": null,
   "id": "792a674e-ceb7-48b0-aa67-9adf331a94e6",
   "metadata": {},
   "outputs": [],
   "source": [
    "book = \"So long and thanks for all the fish.\""
   ]
  },
  {
   "cell_type": "code",
   "execution_count": null,
   "id": "e8855224-fe76-4901-9e03-968ec907e25f",
   "metadata": {},
   "outputs": [],
   "source": [
    "type(book)"
   ]
  },
  {
   "cell_type": "code",
   "execution_count": null,
   "id": "990be7bb-7251-4cb1-879a-5fecc3b1f418",
   "metadata": {},
   "outputs": [],
   "source": [
    "len(book)"
   ]
  },
  {
   "cell_type": "code",
   "execution_count": null,
   "id": "95b7a90d-061f-4530-b438-0c9f614ea016",
   "metadata": {},
   "outputs": [],
   "source": [
    "help(book)"
   ]
  },
  {
   "cell_type": "code",
   "execution_count": null,
   "id": "c6589040-dc8a-4949-a19f-57f201cef22d",
   "metadata": {},
   "outputs": [],
   "source": [
    "help(str)"
   ]
  },
  {
   "cell_type": "code",
   "execution_count": null,
   "id": "b3c19302-a962-4b69-bc89-79ef4834f058",
   "metadata": {},
   "outputs": [],
   "source": [
    "print(dir(book))"
   ]
  },
  {
   "cell_type": "code",
   "execution_count": null,
   "id": "ffca7012-7b5c-42bc-bf21-d56d9c8f22a9",
   "metadata": {},
   "outputs": [],
   "source": [
    "book.upper()"
   ]
  },
  {
   "cell_type": "code",
   "execution_count": null,
   "id": "e1b71d19-d8c1-42ed-8966-0f5c7c0d41ec",
   "metadata": {},
   "outputs": [],
   "source": [
    "book"
   ]
  },
  {
   "cell_type": "code",
   "execution_count": null,
   "id": "81a66403-1cda-4118-8b5e-6e731195b527",
   "metadata": {},
   "outputs": [],
   "source": [
    "help(book.upper)"
   ]
  },
  {
   "cell_type": "code",
   "execution_count": null,
   "id": "662fe9dd-ed86-4097-a92d-f36c3b74fd98",
   "metadata": {},
   "outputs": [],
   "source": [
    "book.lower()"
   ]
  },
  {
   "cell_type": "code",
   "execution_count": null,
   "id": "218afa46-2a3a-4b4f-9c09-ed8e7891bac0",
   "metadata": {},
   "outputs": [],
   "source": [
    "book"
   ]
  },
  {
   "cell_type": "code",
   "execution_count": null,
   "id": "9f78d686-d92a-4eea-b1f5-8061d765f17d",
   "metadata": {},
   "outputs": [],
   "source": [
    "print(dir(book))"
   ]
  },
  {
   "cell_type": "code",
   "execution_count": null,
   "id": "d927865d-ef3e-4cee-a809-89a162f5b90a",
   "metadata": {},
   "outputs": [],
   "source": [
    "book.capitalize()"
   ]
  },
  {
   "cell_type": "code",
   "execution_count": null,
   "id": "5d21f8e5-7b45-4b73-8350-5b773699f90b",
   "metadata": {},
   "outputs": [],
   "source": [
    "book.title()"
   ]
  },
  {
   "cell_type": "code",
   "execution_count": null,
   "id": "ee47bdce-0096-4ce1-ab64-1a4d269ecc8e",
   "metadata": {},
   "outputs": [],
   "source": [
    "len(book)"
   ]
  },
  {
   "cell_type": "code",
   "execution_count": null,
   "id": "1368eb44-b883-4891-b19c-52167cb6b57b",
   "metadata": {},
   "outputs": [],
   "source": [
    "book.count()"
   ]
  },
  {
   "cell_type": "code",
   "execution_count": null,
   "id": "f960b0e8-3dcd-44db-98c3-99ed8e62560b",
   "metadata": {},
   "outputs": [],
   "source": [
    "help(book.count)"
   ]
  },
  {
   "cell_type": "code",
   "execution_count": null,
   "id": "a5b7cbb6-8622-42a3-bb92-ff94a3ee47ef",
   "metadata": {},
   "outputs": [],
   "source": [
    "book"
   ]
  },
  {
   "cell_type": "code",
   "execution_count": null,
   "id": "50df57b6-1889-49c2-aabf-6248b4fde4a9",
   "metadata": {},
   "outputs": [],
   "source": [
    "book.count(\"e\")"
   ]
  },
  {
   "cell_type": "code",
   "execution_count": null,
   "id": "f239fe61-c983-402f-8b5b-a8d41f4b901f",
   "metadata": {},
   "outputs": [],
   "source": [
    "book.count(\", \")"
   ]
  },
  {
   "cell_type": "code",
   "execution_count": null,
   "id": "aaa1b3eb-807a-4c22-ba7d-446da3b0e902",
   "metadata": {},
   "outputs": [],
   "source": [
    "book.count(\"qqqq\")"
   ]
  },
  {
   "cell_type": "code",
   "execution_count": null,
   "id": "8e6b4ca2-1f3c-48c1-94e4-3eb1aae8dcd7",
   "metadata": {},
   "outputs": [],
   "source": [
    "print(dir(book))"
   ]
  },
  {
   "cell_type": "code",
   "execution_count": null,
   "id": "0313552b-8bfc-4f00-acee-3fd3447e8c7a",
   "metadata": {},
   "outputs": [],
   "source": [
    "book.endswith(\"g.\")"
   ]
  },
  {
   "cell_type": "code",
   "execution_count": null,
   "id": "450df253-9e7f-4f46-b45f-e938d2542a02",
   "metadata": {},
   "outputs": [],
   "source": [
    "book.endswith(\"ing\")"
   ]
  },
  {
   "cell_type": "code",
   "execution_count": null,
   "id": "b6d95ed7-b715-402e-9188-e913195cc1c1",
   "metadata": {},
   "outputs": [],
   "source": [
    "book"
   ]
  },
  {
   "cell_type": "code",
   "execution_count": null,
   "id": "f573568f-4c7d-4bb8-9329-cc9f84af34fe",
   "metadata": {},
   "outputs": [],
   "source": [
    "book.find(\"thanks\")"
   ]
  },
  {
   "cell_type": "code",
   "execution_count": null,
   "id": "154f5b86-b734-4350-a2f2-fd7cba8649fd",
   "metadata": {},
   "outputs": [],
   "source": [
    "book.find(\"qqqqq\")"
   ]
  },
  {
   "cell_type": "code",
   "execution_count": null,
   "id": "73937624-f182-49e5-b258-c6841bcafed8",
   "metadata": {},
   "outputs": [],
   "source": [
    "book.find(\"S\")"
   ]
  },
  {
   "cell_type": "code",
   "execution_count": null,
   "id": "4769b06f-8de2-4326-b3db-9c1466cf9973",
   "metadata": {},
   "outputs": [],
   "source": [
    "bool( book.find(\"qqqqq\") )"
   ]
  },
  {
   "cell_type": "code",
   "execution_count": null,
   "id": "281af40b-b15a-4ba2-a5f7-939446bcaa94",
   "metadata": {},
   "outputs": [],
   "source": [
    "bool( book.find(\"S\") )"
   ]
  },
  {
   "cell_type": "code",
   "execution_count": null,
   "id": "d64270ed-9ae4-4af7-94e0-35fdd498b7e5",
   "metadata": {},
   "outputs": [],
   "source": [
    "book"
   ]
  },
  {
   "cell_type": "code",
   "execution_count": null,
   "id": "5ade79c0-086f-4dcd-93ab-b327c59387a2",
   "metadata": {},
   "outputs": [],
   "source": [
    "\"all\" in book"
   ]
  },
  {
   "cell_type": "code",
   "execution_count": null,
   "id": "c11aa563-2437-4ef5-b796-3322fcab1e92",
   "metadata": {},
   "outputs": [],
   "source": [
    "\"qqqqqq\" in book"
   ]
  },
  {
   "cell_type": "code",
   "execution_count": null,
   "id": "d1cb8f58-5b90-4717-ac8b-fd75ed851586",
   "metadata": {},
   "outputs": [],
   "source": [
    "book.find(\"all\")"
   ]
  },
  {
   "cell_type": "code",
   "execution_count": null,
   "id": "d0529c8b-49ab-44e8-bd91-f7cb3a8a7fb8",
   "metadata": {},
   "outputs": [],
   "source": [
    "nums = [1, 2, 3, 2, 3, 4, 42, 5, 4, 6]"
   ]
  },
  {
   "cell_type": "code",
   "execution_count": null,
   "id": "ee51aae7-12c5-431e-9fa0-8a7cd466cd1f",
   "metadata": {},
   "outputs": [],
   "source": [
    "nums"
   ]
  },
  {
   "cell_type": "code",
   "execution_count": null,
   "id": "aa28cde2-e79a-49de-87ae-1100a32aad42",
   "metadata": {},
   "outputs": [],
   "source": [
    "42 in nums"
   ]
  },
  {
   "cell_type": "code",
   "execution_count": null,
   "id": "77cd9dbb-341f-4a2e-a8ec-dc53d39bbf29",
   "metadata": {},
   "outputs": [],
   "source": [
    "106 in nums"
   ]
  },
  {
   "cell_type": "code",
   "execution_count": null,
   "id": "eea70221-95b6-48a7-8405-e6fceb750ad1",
   "metadata": {},
   "outputs": [],
   "source": [
    "print(dir(book))"
   ]
  },
  {
   "cell_type": "code",
   "execution_count": null,
   "id": "f0b40e77-9f12-4343-85de-fa1c468e592a",
   "metadata": {},
   "outputs": [],
   "source": [
    "book"
   ]
  },
  {
   "cell_type": "code",
   "execution_count": null,
   "id": "c80ffb37-3f1c-4a7f-8521-4043eea0f3c3",
   "metadata": {},
   "outputs": [],
   "source": [
    "book.replace(\" \", \"***\")"
   ]
  },
  {
   "cell_type": "code",
   "execution_count": null,
   "id": "27fc5048-cc2a-4829-bc90-06ef80909c6c",
   "metadata": {},
   "outputs": [],
   "source": [
    "book"
   ]
  },
  {
   "cell_type": "code",
   "execution_count": null,
   "id": "cf6e640b-9e03-444a-8cff-c0e008cb0b8c",
   "metadata": {},
   "outputs": [],
   "source": [
    "book.replace(\" \", \"-\").replace(\"a\", \"A\").replace(\".\", \"\").replace(\"o\", \"0\")   # method chaining."
   ]
  },
  {
   "cell_type": "code",
   "execution_count": null,
   "id": "03dc9c74-2ccf-45a7-894a-5a8e7d26880f",
   "metadata": {},
   "outputs": [],
   "source": [
    "book.replace(\" \", \"-\").replace(\"a\", \"A\").replace(\".\", \"\").replace(\"o\", \"0\").upper()"
   ]
  },
  {
   "cell_type": "code",
   "execution_count": null,
   "id": "3f19dbde-d0f9-44e3-9169-639e1565bf70",
   "metadata": {},
   "outputs": [],
   "source": [
    "book = \"      \" + book + \"     \""
   ]
  },
  {
   "cell_type": "code",
   "execution_count": null,
   "id": "3fc39136-c32a-4fe3-a18e-05dcb7286006",
   "metadata": {},
   "outputs": [],
   "source": [
    "book"
   ]
  },
  {
   "cell_type": "code",
   "execution_count": null,
   "id": "e256e64a-2ca2-4c74-a348-8ecd65957706",
   "metadata": {},
   "outputs": [],
   "source": [
    "book.strip()"
   ]
  },
  {
   "cell_type": "code",
   "execution_count": null,
   "id": "7f71c83a-4f36-493d-ae90-789140a3bafd",
   "metadata": {},
   "outputs": [],
   "source": [
    "book.lstrip()"
   ]
  },
  {
   "cell_type": "code",
   "execution_count": null,
   "id": "8db53648-0572-4f70-a84b-6a13c705ad92",
   "metadata": {},
   "outputs": [],
   "source": [
    "book.rstrip()"
   ]
  },
  {
   "cell_type": "code",
   "execution_count": null,
   "id": "28282e00-7244-427d-8498-5afe0a6b1926",
   "metadata": {},
   "outputs": [],
   "source": [
    "book.strip().strip(\".\")"
   ]
  },
  {
   "cell_type": "code",
   "execution_count": null,
   "id": "26bcfbca-fe17-4792-95f9-e3804200a2d2",
   "metadata": {},
   "outputs": [],
   "source": [
    "book.strip(\". \")"
   ]
  },
  {
   "cell_type": "code",
   "execution_count": null,
   "id": "66b8dc02-b9d3-4409-a458-ea2d31469470",
   "metadata": {},
   "outputs": [],
   "source": [
    "book.strip(\" .\")"
   ]
  },
  {
   "cell_type": "code",
   "execution_count": null,
   "id": "77a62a70-230b-4abb-b779-856c75757d14",
   "metadata": {},
   "outputs": [],
   "source": [
    "book.strip(\" .\").strip(\"ish\")"
   ]
  },
  {
   "cell_type": "code",
   "execution_count": null,
   "id": "8d2c8667-4a89-4a4b-ab12-ddccac3ceb65",
   "metadata": {},
   "outputs": [],
   "source": [
    "book.strip(\" .ish\")"
   ]
  },
  {
   "cell_type": "code",
   "execution_count": null,
   "id": "58f53275-e25e-40e1-8dad-2b2299a2533d",
   "metadata": {},
   "outputs": [],
   "source": [
    "book.strip(\"hi.s \")"
   ]
  },
  {
   "cell_type": "code",
   "execution_count": null,
   "id": "23b04553-f124-4efe-8950-ef854abb855b",
   "metadata": {},
   "outputs": [],
   "source": [
    "file = \"autoexec.bat\""
   ]
  },
  {
   "cell_type": "code",
   "execution_count": null,
   "id": "537138ef-403b-4d25-85bc-01ac04fa1d00",
   "metadata": {},
   "outputs": [],
   "source": [
    "file.strip(\".bat\")"
   ]
  },
  {
   "cell_type": "code",
   "execution_count": null,
   "id": "c0f54f37-bbdc-47e5-bdc5-4be701694b4d",
   "metadata": {},
   "outputs": [],
   "source": [
    "file.rstrip(\".bat\")"
   ]
  },
  {
   "cell_type": "code",
   "execution_count": null,
   "id": "9a2618c8-a52a-4160-b17f-0d2b46037300",
   "metadata": {},
   "outputs": [],
   "source": [
    "file.rstrip(\"b.ta\")"
   ]
  },
  {
   "cell_type": "code",
   "execution_count": null,
   "id": "24e38419-4c1d-497d-840d-e80fa3d20d62",
   "metadata": {},
   "outputs": [],
   "source": [
    "book"
   ]
  },
  {
   "cell_type": "code",
   "execution_count": null,
   "id": "64ea6e66-6863-452e-aa41-9f47dbebaaaf",
   "metadata": {},
   "outputs": [],
   "source": [
    "book.strip(\"hi.s \")"
   ]
  },
  {
   "cell_type": "code",
   "execution_count": null,
   "id": "433d2113-a50f-4fc0-80ad-ff605435579d",
   "metadata": {},
   "outputs": [],
   "source": [
    "file"
   ]
  },
  {
   "cell_type": "code",
   "execution_count": null,
   "id": "69823a59-5fee-4645-9e90-8fe90e4d73f8",
   "metadata": {},
   "outputs": [],
   "source": [
    "file.removesuffix(\".bat\")"
   ]
  },
  {
   "cell_type": "code",
   "execution_count": null,
   "id": "3de3c23b-0bc3-4555-9d87-99e2202e500c",
   "metadata": {},
   "outputs": [],
   "source": [
    "file.removeprefix(\"auto\")"
   ]
  },
  {
   "cell_type": "code",
   "execution_count": null,
   "id": "bd84e20f-0580-4abb-8735-92df088d5935",
   "metadata": {},
   "outputs": [],
   "source": [
    "file.removeprefix(\"outa\")"
   ]
  },
  {
   "cell_type": "code",
   "execution_count": null,
   "id": "816ed957-ebdc-44c1-b6e0-7d2260517f00",
   "metadata": {},
   "outputs": [],
   "source": [
    "file.strip(\"outa\")"
   ]
  },
  {
   "cell_type": "code",
   "execution_count": null,
   "id": "a7c3ad5b-a319-4b75-b98c-6ef9a9c6c1fc",
   "metadata": {},
   "outputs": [],
   "source": [
    "print(dir(book))"
   ]
  },
  {
   "cell_type": "code",
   "execution_count": null,
   "id": "a05b2d12-f2dd-4b19-8e74-3690f72ef8ae",
   "metadata": {},
   "outputs": [],
   "source": [
    "book"
   ]
  },
  {
   "cell_type": "code",
   "execution_count": null,
   "id": "8e66c806-9389-4e84-9767-cfdf65673b25",
   "metadata": {},
   "outputs": [],
   "source": [
    "book.split()"
   ]
  },
  {
   "cell_type": "code",
   "execution_count": null,
   "id": "44120dee-7a92-428e-8bd1-47c9d474c2b6",
   "metadata": {},
   "outputs": [],
   "source": [
    "book.strip(\". \").split()"
   ]
  },
  {
   "cell_type": "code",
   "execution_count": null,
   "id": "13906326-2879-46a7-a2a4-a1e4dcca8722",
   "metadata": {},
   "outputs": [],
   "source": [
    "tokens = book.strip(\". \").split()"
   ]
  },
  {
   "cell_type": "code",
   "execution_count": null,
   "id": "019ac598-733b-40f8-8a5c-74c47de0d3a0",
   "metadata": {},
   "outputs": [],
   "source": [
    "tokens"
   ]
  },
  {
   "cell_type": "code",
   "execution_count": null,
   "id": "0cb2e11b-2553-48d4-a92a-b927341623c0",
   "metadata": {},
   "outputs": [],
   "source": [
    "type(tokens)"
   ]
  },
  {
   "cell_type": "code",
   "execution_count": null,
   "id": "f80958c3-be86-4cc3-b276-07753cb74035",
   "metadata": {},
   "outputs": [],
   "source": [
    "len(tokens)"
   ]
  },
  {
   "cell_type": "code",
   "execution_count": null,
   "id": "d2e3c1f4-4ba7-4733-8cf2-3c7564430222",
   "metadata": {},
   "outputs": [],
   "source": [
    "tokens"
   ]
  },
  {
   "cell_type": "code",
   "execution_count": null,
   "id": "fddd5053-42ca-412f-b1ce-5f7083f80d81",
   "metadata": {},
   "outputs": [],
   "source": [
    "tokens[0]"
   ]
  },
  {
   "cell_type": "code",
   "execution_count": null,
   "id": "55512b80-7700-47ae-8fbb-64b67a93d295",
   "metadata": {},
   "outputs": [],
   "source": [
    "tokens[3]"
   ]
  },
  {
   "cell_type": "code",
   "execution_count": null,
   "id": "309cc51a-3b95-49cd-9478-ea2934d152ba",
   "metadata": {},
   "outputs": [],
   "source": [
    "tokens[-1]"
   ]
  },
  {
   "cell_type": "code",
   "execution_count": null,
   "id": "42020ea3-6fc7-4617-a1d3-59734fa08eb9",
   "metadata": {},
   "outputs": [],
   "source": [
    "tokens[-2]"
   ]
  },
  {
   "cell_type": "code",
   "execution_count": null,
   "id": "9b492415-8788-4d5f-a1b2-f78d2abd4608",
   "metadata": {},
   "outputs": [],
   "source": [
    "len(tokens)"
   ]
  },
  {
   "cell_type": "code",
   "execution_count": null,
   "id": "11af077b-a756-4dc6-b260-57568d9b36db",
   "metadata": {},
   "outputs": [],
   "source": [
    "tokens[ len(tokens)-1 ]   # works, but please avoid."
   ]
  },
  {
   "cell_type": "code",
   "execution_count": null,
   "id": "fd1fafb1-5e6c-43c1-b3ec-58e054d3c8ef",
   "metadata": {},
   "outputs": [],
   "source": [
    "tokens[-1]"
   ]
  },
  {
   "cell_type": "code",
   "execution_count": null,
   "id": "de08fa93-b826-473c-9895-2e1a2d020374",
   "metadata": {},
   "outputs": [],
   "source": [
    "nums = [1, 2, 3, 42]"
   ]
  },
  {
   "cell_type": "code",
   "execution_count": null,
   "id": "ebe274fc-368c-4310-bcbd-6db0e0abfffb",
   "metadata": {},
   "outputs": [],
   "source": [
    "nums[-1]"
   ]
  },
  {
   "cell_type": "code",
   "execution_count": null,
   "id": "00d2fd93-7750-48c0-8ef7-678eacf4b92a",
   "metadata": {},
   "outputs": [],
   "source": [
    "nums = [1, \"two\", 3, \"forty two\", 56]"
   ]
  },
  {
   "cell_type": "code",
   "execution_count": null,
   "id": "1efb88e4-4ca5-4a1a-bef4-3ea1301736b5",
   "metadata": {},
   "outputs": [],
   "source": [
    "nums"
   ]
  },
  {
   "cell_type": "code",
   "execution_count": null,
   "id": "da592390-3818-4675-89c4-3e4accbdb517",
   "metadata": {},
   "outputs": [],
   "source": [
    "nums = [1, 'two', 3, 'forty two', 56, [3, 2, 1]]"
   ]
  },
  {
   "cell_type": "code",
   "execution_count": null,
   "id": "45362de0-cb1e-4174-8624-ab2683c92ee4",
   "metadata": {},
   "outputs": [],
   "source": [
    "nums"
   ]
  },
  {
   "cell_type": "code",
   "execution_count": null,
   "id": "f3cd686f-7b24-49b3-aac7-295cc47af64d",
   "metadata": {},
   "outputs": [],
   "source": [
    "len(nums)"
   ]
  },
  {
   "cell_type": "code",
   "execution_count": null,
   "id": "1023a02d-02d3-4444-8603-04b93e3b036b",
   "metadata": {},
   "outputs": [],
   "source": [
    "nums[-1]"
   ]
  },
  {
   "cell_type": "code",
   "execution_count": null,
   "id": "60f9b742-dca4-4950-ad4a-fb6cdf54a9e0",
   "metadata": {},
   "outputs": [],
   "source": [
    "type(nums[-1])"
   ]
  },
  {
   "cell_type": "code",
   "execution_count": null,
   "id": "3ed664c6-b393-4880-a500-6eb7e7ba955c",
   "metadata": {},
   "outputs": [],
   "source": [
    "nums[-1][-1]"
   ]
  },
  {
   "cell_type": "code",
   "execution_count": null,
   "id": "45263e21-3240-4756-a557-ba2784768596",
   "metadata": {},
   "outputs": [],
   "source": [
    "len(nums[-1])"
   ]
  },
  {
   "cell_type": "code",
   "execution_count": null,
   "id": "a7dd75cb-8a50-4ccf-a46e-b4673bdcfa1d",
   "metadata": {},
   "outputs": [],
   "source": [
    "tokens"
   ]
  },
  {
   "cell_type": "code",
   "execution_count": null,
   "id": "de868619-313d-4060-8367-3b9722a87a7d",
   "metadata": {},
   "outputs": [],
   "source": [
    "tokens[2]"
   ]
  },
  {
   "cell_type": "code",
   "execution_count": null,
   "id": "0c1d6a2b-fed0-4528-95cd-9c6aa511d8e8",
   "metadata": {},
   "outputs": [],
   "source": [
    "tokens[-2]"
   ]
  },
  {
   "cell_type": "code",
   "execution_count": null,
   "id": "791204f8-96bd-44d6-9d9a-1ba5d07f2837",
   "metadata": {},
   "outputs": [],
   "source": [
    "tokens[0:3]   # a SLICE of data"
   ]
  },
  {
   "cell_type": "code",
   "execution_count": null,
   "id": "56cbfa73-77c9-48e2-87ff-7ebc4da57002",
   "metadata": {},
   "outputs": [],
   "source": [
    "tokens"
   ]
  },
  {
   "cell_type": "code",
   "execution_count": null,
   "id": "5afd4523-be64-42c2-9483-566104be6f97",
   "metadata": {},
   "outputs": [],
   "source": [
    "tokens[2:7]   #  2 is the START value.   7 is the STOP value (aka END)."
   ]
  },
  {
   "cell_type": "code",
   "execution_count": null,
   "id": "60de752f-78e5-4677-af6f-d0a12c9ee345",
   "metadata": {},
   "outputs": [],
   "source": [
    "tokens[4:]"
   ]
  },
  {
   "cell_type": "code",
   "execution_count": null,
   "id": "f7833d79-8bb1-4954-9633-c0543182dff0",
   "metadata": {},
   "outputs": [],
   "source": [
    "tokens[7:]"
   ]
  },
  {
   "cell_type": "code",
   "execution_count": null,
   "id": "7330ac85-289a-4e6f-a5e8-bddf66a70c5b",
   "metadata": {},
   "outputs": [],
   "source": [
    "tokens[:5]"
   ]
  },
  {
   "cell_type": "code",
   "execution_count": null,
   "id": "32bc5c31-244c-4e6e-8b23-b2d4ecc66ee8",
   "metadata": {},
   "outputs": [],
   "source": [
    "tokens[:]"
   ]
  },
  {
   "cell_type": "code",
   "execution_count": null,
   "id": "617b5054-8638-4d97-8647-e169b4c7fc2f",
   "metadata": {},
   "outputs": [],
   "source": [
    "tokens"
   ]
  },
  {
   "cell_type": "code",
   "execution_count": null,
   "id": "000a0d91-b18c-4589-a05a-117fdb940e87",
   "metadata": {},
   "outputs": [],
   "source": [
    "tokens[::2]    # 2 is the STEP value."
   ]
  },
  {
   "cell_type": "code",
   "execution_count": null,
   "id": "ce5a4d43-c91f-4d98-98ec-10cbcb80fb4c",
   "metadata": {},
   "outputs": [],
   "source": [
    "tokens[1:7:2]"
   ]
  },
  {
   "cell_type": "code",
   "execution_count": null,
   "id": "357ee324-6417-41af-9378-847d807cfec9",
   "metadata": {},
   "outputs": [],
   "source": [
    "tokens"
   ]
  },
  {
   "cell_type": "code",
   "execution_count": null,
   "id": "258e30a4-d782-49d5-9754-95061a38c374",
   "metadata": {},
   "outputs": [],
   "source": [
    "tokens[::-1]"
   ]
  },
  {
   "cell_type": "code",
   "execution_count": null,
   "id": "79de3895-cc74-464b-b4ee-e8566a4fc4e6",
   "metadata": {},
   "outputs": [],
   "source": [
    "tokens"
   ]
  },
  {
   "cell_type": "code",
   "execution_count": null,
   "id": "d3018867-6c9e-4ec0-83a7-8d71273e72b5",
   "metadata": {},
   "outputs": [],
   "source": [
    "tokens[::-2]"
   ]
  },
  {
   "cell_type": "code",
   "execution_count": null,
   "id": "ac237a51-6729-43e8-9034-28b06cbff3b6",
   "metadata": {},
   "outputs": [],
   "source": [
    "tokens[1:7:2]    #  1 is START, 7 is STOP, and 2 is STEP   START:STOP:STEP"
   ]
  },
  {
   "cell_type": "code",
   "execution_count": null,
   "id": "3424ee41-4145-4db3-9b34-c90223a9ed88",
   "metadata": {},
   "outputs": [],
   "source": [
    "book"
   ]
  },
  {
   "cell_type": "code",
   "execution_count": null,
   "id": "56c7ec0b-b953-466f-9d2f-df6ebd1c3253",
   "metadata": {},
   "outputs": [],
   "source": [
    "book[::3]"
   ]
  },
  {
   "cell_type": "code",
   "execution_count": null,
   "id": "92ae9f2b-61f6-44da-ad8e-21824cf145ff",
   "metadata": {},
   "outputs": [],
   "source": [
    "print(dir(tokens))"
   ]
  },
  {
   "cell_type": "code",
   "execution_count": null,
   "id": "06364625-0edb-427b-893a-8d2cf2080758",
   "metadata": {},
   "outputs": [],
   "source": [
    "tokens"
   ]
  },
  {
   "cell_type": "code",
   "execution_count": null,
   "id": "d4baa9ec-c58d-4851-8cb7-5259636a544c",
   "metadata": {},
   "outputs": [],
   "source": [
    "tokens.append(1985)"
   ]
  },
  {
   "cell_type": "code",
   "execution_count": null,
   "id": "3a878adf-34ab-42b4-92d8-f3d4ddcd4fcd",
   "metadata": {},
   "outputs": [],
   "source": [
    "tokens"
   ]
  },
  {
   "cell_type": "code",
   "execution_count": null,
   "id": "bf7fb851-2d18-4192-a362-173cc93dd0aa",
   "metadata": {},
   "outputs": [],
   "source": [
    "tokens.append([234, 256, 23445])"
   ]
  },
  {
   "cell_type": "code",
   "execution_count": null,
   "id": "c5e273a6-ad21-40f9-b2cb-bc12b2f692e7",
   "metadata": {},
   "outputs": [],
   "source": [
    "print(tokens)"
   ]
  },
  {
   "cell_type": "code",
   "execution_count": null,
   "id": "2e5fa36f-500a-4362-af18-a147d8bcaf68",
   "metadata": {},
   "outputs": [],
   "source": [
    "names = []"
   ]
  },
  {
   "cell_type": "code",
   "execution_count": null,
   "id": "12ad635e-5ff8-4b93-bea4-2502ba5d1f55",
   "metadata": {},
   "outputs": [],
   "source": [
    "len(names)"
   ]
  },
  {
   "cell_type": "code",
   "execution_count": null,
   "id": "ff2e0727-3ad4-4d2e-8655-d2378b82dd07",
   "metadata": {},
   "outputs": [],
   "source": [
    "names.append(\"Fred\")"
   ]
  },
  {
   "cell_type": "code",
   "execution_count": null,
   "id": "ef6028b7-1548-4cf0-97ae-b7e883c91590",
   "metadata": {},
   "outputs": [],
   "source": [
    "names"
   ]
  },
  {
   "cell_type": "code",
   "execution_count": null,
   "id": "15e3ef0a-9d6a-4084-a877-234dc319f35d",
   "metadata": {},
   "outputs": [],
   "source": [
    "print(dir(names))"
   ]
  },
  {
   "cell_type": "code",
   "execution_count": null,
   "id": "a3db1eb9-a4ea-4dbb-a94e-0b2ad3771aef",
   "metadata": {},
   "outputs": [],
   "source": [
    "names.clear()"
   ]
  },
  {
   "cell_type": "code",
   "execution_count": null,
   "id": "13aaeb2f-0cf5-42a0-ae2b-95a5df1db31c",
   "metadata": {},
   "outputs": [],
   "source": [
    "names"
   ]
  },
  {
   "cell_type": "code",
   "execution_count": null,
   "id": "7c84302d-1614-41c5-953b-c8fb8b545710",
   "metadata": {},
   "outputs": [],
   "source": [
    "names = [] "
   ]
  },
  {
   "cell_type": "code",
   "execution_count": null,
   "id": "32a0c2ab-741d-467a-9e98-db9c7f9de92f",
   "metadata": {},
   "outputs": [],
   "source": [
    "print(tokens)"
   ]
  },
  {
   "cell_type": "code",
   "execution_count": null,
   "id": "6010763c-2d8d-4579-829b-69993457a1fc",
   "metadata": {},
   "outputs": [],
   "source": [
    "tokens2 = tokens"
   ]
  },
  {
   "cell_type": "code",
   "execution_count": null,
   "id": "e94400db-6098-4586-9036-89cd73f1b2e1",
   "metadata": {},
   "outputs": [],
   "source": [
    "print(tokens2)"
   ]
  },
  {
   "cell_type": "code",
   "execution_count": null,
   "id": "b9a30b8d-5af6-41f6-9e4c-21ecfc003962",
   "metadata": {},
   "outputs": [],
   "source": [
    "tokens2.append(\"Whoops!\")"
   ]
  },
  {
   "cell_type": "code",
   "execution_count": null,
   "id": "5b273c8c-f6da-4461-8d4b-7fba887843ed",
   "metadata": {},
   "outputs": [],
   "source": [
    "print(tokens2)"
   ]
  },
  {
   "cell_type": "code",
   "execution_count": null,
   "id": "0474aeeb-8458-4a99-88f0-cf9ede9e5400",
   "metadata": {},
   "outputs": [],
   "source": [
    "print(tokens)"
   ]
  },
  {
   "cell_type": "code",
   "execution_count": null,
   "id": "6297cdf3-651c-4831-8080-4a0acff638f6",
   "metadata": {},
   "outputs": [],
   "source": [
    "x = 42"
   ]
  },
  {
   "cell_type": "code",
   "execution_count": null,
   "id": "e99afcb8-4f47-41ef-91f7-ba8a50bbdec2",
   "metadata": {},
   "outputs": [],
   "source": [
    "id(x)"
   ]
  },
  {
   "cell_type": "code",
   "execution_count": null,
   "id": "d6e5fa8e-e73f-4dd6-aeb5-8f374c3c61da",
   "metadata": {},
   "outputs": [],
   "source": [
    "x"
   ]
  },
  {
   "cell_type": "code",
   "execution_count": null,
   "id": "8fc65271-2f37-4aa2-94a3-0143fdb750c7",
   "metadata": {},
   "outputs": [],
   "source": [
    "x = \"hello\""
   ]
  },
  {
   "cell_type": "code",
   "execution_count": null,
   "id": "1c74b573-cc91-4b06-8dd7-415f494c5c11",
   "metadata": {},
   "outputs": [],
   "source": [
    "id(x)"
   ]
  },
  {
   "cell_type": "code",
   "execution_count": null,
   "id": "deae3961-7d94-49cf-886c-29623673ebe8",
   "metadata": {},
   "outputs": [],
   "source": [
    "id(tokens), id(tokens2)"
   ]
  },
  {
   "cell_type": "code",
   "execution_count": null,
   "id": "5f2720e2-6c87-4b41-980a-a1cd5151fa28",
   "metadata": {},
   "outputs": [],
   "source": [
    "tokens3 = tokens.copy()"
   ]
  },
  {
   "cell_type": "code",
   "execution_count": null,
   "id": "9f205cc1-0ea3-44f9-b0c2-77ffb286b0d3",
   "metadata": {},
   "outputs": [],
   "source": [
    "print(tokens3)\n",
    "print(tokens)"
   ]
  },
  {
   "cell_type": "code",
   "execution_count": null,
   "id": "f9bee9c3-9c0b-4e74-8f93-f87a0ed92aae",
   "metadata": {},
   "outputs": [],
   "source": [
    "tokens3.append(6)"
   ]
  },
  {
   "cell_type": "code",
   "execution_count": null,
   "id": "286db452-8047-48e7-89b7-3623e7f15432",
   "metadata": {},
   "outputs": [],
   "source": [
    "print(tokens3)\n",
    "print(tokens)"
   ]
  },
  {
   "cell_type": "code",
   "execution_count": null,
   "id": "f38be9b6-bee2-431e-bb87-d9ab2a89299c",
   "metadata": {},
   "outputs": [],
   "source": [
    "id(tokens), id(tokens3)"
   ]
  },
  {
   "cell_type": "code",
   "execution_count": null,
   "id": "999923cb-a906-4a9c-aa80-0913f6c0bfa5",
   "metadata": {},
   "outputs": [],
   "source": [
    "print(dir(nums))"
   ]
  },
  {
   "cell_type": "code",
   "execution_count": null,
   "id": "fb97ef80-5cd4-46d3-8252-bd8e3edf48af",
   "metadata": {},
   "outputs": [],
   "source": [
    "len(nums)"
   ]
  },
  {
   "cell_type": "code",
   "execution_count": null,
   "id": "a0f25ad7-2b89-4df2-a6b6-f2f9b4dd0053",
   "metadata": {},
   "outputs": [],
   "source": [
    "nums"
   ]
  },
  {
   "cell_type": "code",
   "execution_count": null,
   "id": "950feda5-9185-4ef6-af5f-c909c7c566ea",
   "metadata": {},
   "outputs": [],
   "source": [
    "nums.count(3)"
   ]
  },
  {
   "cell_type": "code",
   "execution_count": null,
   "id": "78f76fca-e2cb-44b8-a6d6-798000aad53d",
   "metadata": {},
   "outputs": [],
   "source": [
    "nums.extend([4, 5, 6, 7, 8, 9])"
   ]
  },
  {
   "cell_type": "code",
   "execution_count": null,
   "id": "7b9dc95b-0079-41fc-8f99-3c061ab4ff73",
   "metadata": {},
   "outputs": [],
   "source": [
    "nums"
   ]
  },
  {
   "cell_type": "code",
   "execution_count": null,
   "id": "9e1c1f1b-01b7-41cd-9fbe-09c2ad815922",
   "metadata": {},
   "outputs": [],
   "source": [
    "nums.index('forty two')"
   ]
  },
  {
   "cell_type": "code",
   "execution_count": null,
   "id": "01e840f9-c8ee-45ad-8f89-4d528ab99c73",
   "metadata": {},
   "outputs": [],
   "source": [
    "nums.index(999)"
   ]
  },
  {
   "cell_type": "code",
   "execution_count": null,
   "id": "5e0257c6-a3ad-450e-99d0-63d3ce9e8e93",
   "metadata": {},
   "outputs": [],
   "source": [
    "999 in nums"
   ]
  },
  {
   "cell_type": "code",
   "execution_count": null,
   "id": "2587c664-c2eb-4663-ab70-66e6c3cd09a0",
   "metadata": {},
   "outputs": [],
   "source": [
    "if 56 in nums:\n",
    "    print(nums.index(56))\n",
    "    print(\"Found it!\")"
   ]
  },
  {
   "cell_type": "code",
   "execution_count": null,
   "id": "087798d6-bd72-41c2-8870-a5fb95b33ecf",
   "metadata": {},
   "outputs": [],
   "source": [
    "lookingfor = 56\n",
    "\n",
    "if lookingfor in nums:\n",
    "    print(nums.index(lookingfor))\n",
    "    print(\"Found it!\")\n",
    "print(\"Done.\")"
   ]
  },
  {
   "cell_type": "raw",
   "id": "91593ea4-9d6b-405c-bbb2-cac23b9054db",
   "metadata": {},
   "source": [
    "if x>10{cout << \"It's big!\";}else{cout << \"It's small\";}  "
   ]
  },
  {
   "cell_type": "code",
   "execution_count": null,
   "id": "19027ec7-f360-4f29-a35c-5066d3f62259",
   "metadata": {},
   "outputs": [],
   "source": [
    "print(dir(nums))"
   ]
  },
  {
   "cell_type": "code",
   "execution_count": null,
   "id": "59d4703d-3980-4fee-bc5d-f6950e25212a",
   "metadata": {},
   "outputs": [],
   "source": []
  }
 ],
 "metadata": {
  "kernelspec": {
   "display_name": "Python 3 (ipykernel)",
   "language": "python",
   "name": "python3"
  },
  "language_info": {
   "codemirror_mode": {
    "name": "ipython",
    "version": 3
   },
   "file_extension": ".py",
   "mimetype": "text/x-python",
   "name": "python",
   "nbconvert_exporter": "python",
   "pygments_lexer": "ipython3",
   "version": "3.13.7"
  }
 },
 "nbformat": 4,
 "nbformat_minor": 5
}
