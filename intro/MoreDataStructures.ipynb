{
 "cells": [
  {
   "cell_type": "code",
   "execution_count": null,
   "id": "6b22a5ec-0145-4079-8631-04b9f4936328",
   "metadata": {},
   "outputs": [],
   "source": [
    "words = \"This is a test of the methods used with lists\".split()"
   ]
  },
  {
   "cell_type": "code",
   "execution_count": null,
   "id": "629361e0-e64b-4971-bc59-c5616ff3442c",
   "metadata": {},
   "outputs": [],
   "source": [
    "words"
   ]
  },
  {
   "cell_type": "code",
   "execution_count": null,
   "id": "9dae578f-ef37-468b-8ef5-bca5f5314b86",
   "metadata": {},
   "outputs": [],
   "source": [
    "print(dir(words))"
   ]
  },
  {
   "cell_type": "code",
   "execution_count": null,
   "id": "dd6c906f-9dc6-4e3a-9310-09374361df17",
   "metadata": {},
   "outputs": [],
   "source": [
    "words.append(\"Hello\")"
   ]
  },
  {
   "cell_type": "code",
   "execution_count": null,
   "id": "d06f6c03-257b-49a2-be46-0e86cbf8680d",
   "metadata": {},
   "outputs": [],
   "source": [
    "print(words)"
   ]
  },
  {
   "cell_type": "code",
   "execution_count": null,
   "id": "c2459943-6de8-4cbe-b9f6-fd09f723f24d",
   "metadata": {},
   "outputs": [],
   "source": [
    "words.insert(0, \"Start\")"
   ]
  },
  {
   "cell_type": "code",
   "execution_count": null,
   "id": "f2d28974-aa82-4cde-993e-03fb2b03d4ab",
   "metadata": {},
   "outputs": [],
   "source": [
    "print(words)"
   ]
  },
  {
   "cell_type": "code",
   "execution_count": null,
   "id": "b775c114-a78d-48fd-8df6-b02e93aba709",
   "metadata": {},
   "outputs": [],
   "source": [
    "words.insert(5, \"OFF\")"
   ]
  },
  {
   "cell_type": "code",
   "execution_count": null,
   "id": "a2575a12-f5a6-4a66-89e8-409564ae6957",
   "metadata": {},
   "outputs": [],
   "source": [
    "print(words)"
   ]
  },
  {
   "cell_type": "code",
   "execution_count": null,
   "id": "1254432c-9b13-4976-9519-98450debc2ac",
   "metadata": {},
   "outputs": [],
   "source": [
    "words.insert(7, \"MIDDLE\")\n",
    "print(words)"
   ]
  },
  {
   "cell_type": "code",
   "execution_count": null,
   "id": "d4a834af-21e1-4a2d-8e3f-b14d2ed93ac3",
   "metadata": {},
   "outputs": [],
   "source": [
    "words.pop()"
   ]
  },
  {
   "cell_type": "code",
   "execution_count": null,
   "id": "c9486b94-f29b-494c-93cf-7ee26925bf45",
   "metadata": {},
   "outputs": [],
   "source": [
    "print(words)"
   ]
  },
  {
   "cell_type": "code",
   "execution_count": null,
   "id": "771a3a6a-7618-4020-b0fe-55a65abab3e0",
   "metadata": {},
   "outputs": [],
   "source": [
    "words.pop()\n",
    "words.pop()\n",
    "words.pop()"
   ]
  },
  {
   "cell_type": "code",
   "execution_count": null,
   "id": "90501e1e-78f7-4da2-8dee-55f3d7349492",
   "metadata": {},
   "outputs": [],
   "source": [
    "print(words)"
   ]
  },
  {
   "cell_type": "code",
   "execution_count": null,
   "id": "39b5f830-d86a-4981-a8dc-46bfc190af1b",
   "metadata": {},
   "outputs": [],
   "source": [
    "words.pop(0)"
   ]
  },
  {
   "cell_type": "code",
   "execution_count": null,
   "id": "8ff2ea14-4fda-4e39-8b8e-0ccc88f5e0db",
   "metadata": {},
   "outputs": [],
   "source": [
    "print(words)"
   ]
  },
  {
   "cell_type": "code",
   "execution_count": null,
   "id": "0eddb922-6864-4291-9ab3-d6701b9a731a",
   "metadata": {},
   "outputs": [],
   "source": [
    "words.pop(5)"
   ]
  },
  {
   "cell_type": "code",
   "execution_count": null,
   "id": "ae0bf8d2-cee9-417f-a9ca-8730f60701ef",
   "metadata": {},
   "outputs": [],
   "source": [
    "print(words)"
   ]
  },
  {
   "cell_type": "code",
   "execution_count": null,
   "id": "f13fb828-75ed-4228-94a4-b9e675c1dfd9",
   "metadata": {},
   "outputs": [],
   "source": [
    "print(dir(words))"
   ]
  },
  {
   "cell_type": "code",
   "execution_count": null,
   "id": "62efdebb-6157-4375-971b-32719103ac7e",
   "metadata": {},
   "outputs": [],
   "source": [
    "words.remove(\"test\")"
   ]
  },
  {
   "cell_type": "code",
   "execution_count": null,
   "id": "166d5a8a-221b-4998-878b-a20838d7a01b",
   "metadata": {},
   "outputs": [],
   "source": [
    "words"
   ]
  },
  {
   "cell_type": "code",
   "execution_count": null,
   "id": "4e683c50-26cf-4051-9371-6fa73236424a",
   "metadata": {},
   "outputs": [],
   "source": [
    "words.remove(\"test\")"
   ]
  },
  {
   "cell_type": "code",
   "execution_count": null,
   "id": "83ff8f7c-e8c1-427a-af1e-510c9d9e273c",
   "metadata": {},
   "outputs": [],
   "source": [
    "nums = [1, 3, 2, 4, 2, 1, 2, 2, 8, 4, 5, 6, 8, 8, 8, 8]"
   ]
  },
  {
   "cell_type": "code",
   "execution_count": null,
   "id": "86b176db-10bb-4a29-ba43-f98367dc8e89",
   "metadata": {},
   "outputs": [],
   "source": [
    "nums"
   ]
  },
  {
   "cell_type": "code",
   "execution_count": null,
   "id": "8ac267c8-9709-474f-b4ea-65ccbebdcaee",
   "metadata": {},
   "outputs": [],
   "source": [
    "nums.remove(8)"
   ]
  },
  {
   "cell_type": "code",
   "execution_count": null,
   "id": "1ae9a8b4-c3bf-4b63-ba60-61cf958a9385",
   "metadata": {},
   "outputs": [],
   "source": [
    "nums"
   ]
  },
  {
   "cell_type": "code",
   "execution_count": null,
   "id": "04de5638-814c-41b9-be55-125b889deaf9",
   "metadata": {},
   "outputs": [],
   "source": [
    "nums.remove(8)"
   ]
  },
  {
   "cell_type": "code",
   "execution_count": null,
   "id": "d638059c-33bf-4619-a9e1-8982a631f4ec",
   "metadata": {},
   "outputs": [],
   "source": [
    "nums"
   ]
  },
  {
   "cell_type": "code",
   "execution_count": null,
   "id": "85086ea2-04c8-46c2-b4e4-1f3d34f46753",
   "metadata": {},
   "outputs": [],
   "source": [
    "nums = [1, 3, 2, 4, 2, 1, 2, 2, 8, 4, 5, 6, 8, 8, 8, 8]"
   ]
  },
  {
   "cell_type": "code",
   "execution_count": null,
   "id": "5dbf1774-e15c-43be-949e-ecaf4b95ec09",
   "metadata": {},
   "outputs": [],
   "source": [
    "for n in nums:\n",
    "    if n == 8:\n",
    "        nums.remove(8)"
   ]
  },
  {
   "cell_type": "code",
   "execution_count": null,
   "id": "37b3c3fe-13fb-44ba-b1fd-680c4dd07660",
   "metadata": {},
   "outputs": [],
   "source": [
    "nums"
   ]
  },
  {
   "cell_type": "code",
   "execution_count": null,
   "id": "4a26b692-e22e-441b-a61b-f95f4eb875d8",
   "metadata": {},
   "outputs": [],
   "source": [
    "nums = [1, 3, 2, 4, 2, 1, 2, 2, 8, 4, 5, 6, 8, 8, 8, 8]"
   ]
  },
  {
   "cell_type": "code",
   "execution_count": null,
   "id": "19f096a0-49e6-4ced-8163-2068bf9d82ce",
   "metadata": {},
   "outputs": [],
   "source": [
    "nums"
   ]
  },
  {
   "cell_type": "code",
   "execution_count": null,
   "id": "d91247b6-ef73-4952-a883-c2731a4bae2d",
   "metadata": {},
   "outputs": [],
   "source": [
    "while 8 in nums:\n",
    "    nums.remove(8)"
   ]
  },
  {
   "cell_type": "code",
   "execution_count": null,
   "id": "6a5f2744-e271-4b7b-9655-30bb3fbe6979",
   "metadata": {},
   "outputs": [],
   "source": [
    "nums"
   ]
  },
  {
   "cell_type": "code",
   "execution_count": null,
   "id": "455b91e9-cd17-4e73-bc7f-344289769928",
   "metadata": {},
   "outputs": [],
   "source": [
    "nums2 = []\n",
    "for n in nums:\n",
    "    nums2.append(n*2)"
   ]
  },
  {
   "cell_type": "code",
   "execution_count": null,
   "id": "76c03f42-7211-4c2b-965c-08b6fecc33a2",
   "metadata": {},
   "outputs": [],
   "source": [
    "nums"
   ]
  },
  {
   "cell_type": "code",
   "execution_count": null,
   "id": "4b7a7b21-24f8-4317-9e21-c7ed8f8fc245",
   "metadata": {},
   "outputs": [],
   "source": [
    "nums2"
   ]
  },
  {
   "cell_type": "code",
   "execution_count": null,
   "id": "0f0c4ea2-1b26-4856-8600-c21ea02be354",
   "metadata": {},
   "outputs": [],
   "source": [
    "nums3 = []\n",
    "\n",
    "i = 0\n",
    "while i < len(nums):\n",
    "    nums3.append(nums[i]*3)\n",
    "    i = i + 1\n"
   ]
  },
  {
   "cell_type": "code",
   "execution_count": null,
   "id": "24c5e0a6-72e6-477c-8cad-83975ff4646f",
   "metadata": {},
   "outputs": [],
   "source": [
    "nums3"
   ]
  },
  {
   "cell_type": "code",
   "execution_count": null,
   "id": "14728c30-7cd4-45f4-be35-ce90367c6da1",
   "metadata": {},
   "outputs": [],
   "source": [
    "nums2 = []\n",
    "for n in nums:\n",
    "    nums2.append(n*2)\n",
    "print(nums)\n",
    "print(nums2)"
   ]
  },
  {
   "cell_type": "code",
   "execution_count": null,
   "id": "cf24985b-68ad-4764-92d0-68cc49882421",
   "metadata": {},
   "outputs": [],
   "source": [
    "nums5 = [ n*2 for n in nums ]     # a list comprehension.\n",
    "\n",
    "print(nums)\n",
    "print(nums2)\n",
    "print(nums5)"
   ]
  },
  {
   "cell_type": "code",
   "execution_count": null,
   "id": "73b424b1-9406-463f-931b-24b13b1f5968",
   "metadata": {},
   "outputs": [],
   "source": [
    "print(dir(words))"
   ]
  },
  {
   "cell_type": "code",
   "execution_count": null,
   "id": "639f54e6-8c83-426c-9615-62e3d6c5ac12",
   "metadata": {},
   "outputs": [],
   "source": [
    "nums"
   ]
  },
  {
   "cell_type": "code",
   "execution_count": null,
   "id": "354bbee7-b17c-4e5f-946c-49b2bc53e14a",
   "metadata": {},
   "outputs": [],
   "source": [
    "nums.reverse()   # in-place"
   ]
  },
  {
   "cell_type": "code",
   "execution_count": null,
   "id": "6f43dd60-8cfa-4c87-b1e2-cf25d51ed055",
   "metadata": {},
   "outputs": [],
   "source": [
    "nums"
   ]
  },
  {
   "cell_type": "code",
   "execution_count": null,
   "id": "b76ffb7b-5f97-4500-b7ce-e7a54095095f",
   "metadata": {},
   "outputs": [],
   "source": [
    "nums.reverse()"
   ]
  },
  {
   "cell_type": "code",
   "execution_count": null,
   "id": "2be33428-e776-432d-a4ad-e1fc888c4f2e",
   "metadata": {},
   "outputs": [],
   "source": [
    "nums"
   ]
  },
  {
   "cell_type": "code",
   "execution_count": null,
   "id": "c3d7457e-6385-48c2-86d0-c8892135d498",
   "metadata": {},
   "outputs": [],
   "source": [
    "reversed(nums)"
   ]
  },
  {
   "cell_type": "code",
   "execution_count": null,
   "id": "29f48168-598c-4e22-8f46-b3100a3f6796",
   "metadata": {},
   "outputs": [],
   "source": [
    "nums"
   ]
  },
  {
   "cell_type": "code",
   "execution_count": null,
   "id": "a57c67f4-bc3a-429d-8fc3-4cba6e104603",
   "metadata": {},
   "outputs": [],
   "source": [
    "list(reversed(nums))"
   ]
  },
  {
   "cell_type": "code",
   "execution_count": null,
   "id": "bea18692-607c-47ad-8534-b1cb0b6991e8",
   "metadata": {},
   "outputs": [],
   "source": [
    "nums"
   ]
  },
  {
   "cell_type": "code",
   "execution_count": null,
   "id": "f1a65364-aaab-482a-b610-78cfa26e6963",
   "metadata": {},
   "outputs": [],
   "source": [
    "nums.sort()   # in-place sort"
   ]
  },
  {
   "cell_type": "code",
   "execution_count": null,
   "id": "36423cfa-b4f1-4b38-9e81-62a6b2db3c2c",
   "metadata": {},
   "outputs": [],
   "source": [
    "nums"
   ]
  },
  {
   "cell_type": "code",
   "execution_count": null,
   "id": "06a25fa5-e572-41bf-bb1a-d33eab8fce36",
   "metadata": {},
   "outputs": [],
   "source": [
    "nums.sort(reverse=True)"
   ]
  },
  {
   "cell_type": "code",
   "execution_count": null,
   "id": "dc9ded14-62cb-4906-88de-1349e3a077a7",
   "metadata": {},
   "outputs": [],
   "source": [
    "nums"
   ]
  },
  {
   "cell_type": "code",
   "execution_count": null,
   "id": "262e4a00-9cc1-4f96-9110-aeb668980c62",
   "metadata": {},
   "outputs": [],
   "source": [
    "nums = [1, 3, 2, 4, 2, 1, 2, 2, 4, 5, 6]"
   ]
  },
  {
   "cell_type": "code",
   "execution_count": null,
   "id": "b7abc0af-2271-4b08-be28-97164110ead3",
   "metadata": {},
   "outputs": [],
   "source": [
    "nums"
   ]
  },
  {
   "cell_type": "code",
   "execution_count": null,
   "id": "f3e7c967-c81d-4d0e-bb9a-bcb2ee67825d",
   "metadata": {},
   "outputs": [],
   "source": [
    "sorted(nums)"
   ]
  },
  {
   "cell_type": "code",
   "execution_count": null,
   "id": "b652a42a-f1a4-442d-afb4-5851b8db4708",
   "metadata": {},
   "outputs": [],
   "source": [
    "nums"
   ]
  },
  {
   "cell_type": "code",
   "execution_count": null,
   "id": "8470b66d-43f8-4810-912f-7a9e72d46799",
   "metadata": {},
   "outputs": [],
   "source": [
    "sorted(nums, reverse=True)"
   ]
  },
  {
   "cell_type": "code",
   "execution_count": null,
   "id": "b6e971f1-4d5e-4c84-a212-03955a6517f8",
   "metadata": {},
   "outputs": [],
   "source": [
    "nums"
   ]
  },
  {
   "cell_type": "code",
   "execution_count": null,
   "id": "ab16fe17-5fdd-40a2-bce0-429a64958b40",
   "metadata": {},
   "outputs": [],
   "source": [
    "nums = [ 1, 2, \"1\", \"3\", 3, 2, 1, 5, 4, \"7\", \"1\" ]"
   ]
  },
  {
   "cell_type": "code",
   "execution_count": null,
   "id": "6bb1683b-d466-4585-b220-99571df24f90",
   "metadata": {},
   "outputs": [],
   "source": [
    "nums"
   ]
  },
  {
   "cell_type": "code",
   "execution_count": null,
   "id": "12273a34-2d04-40cb-a8b9-f70bc88bfa5d",
   "metadata": {},
   "outputs": [],
   "source": [
    "sorted(nums)"
   ]
  },
  {
   "cell_type": "code",
   "execution_count": null,
   "id": "6d584481-29e9-4ce1-bf09-8ff1cf90de85",
   "metadata": {},
   "outputs": [],
   "source": [
    "\"1\" < 20"
   ]
  },
  {
   "cell_type": "code",
   "execution_count": null,
   "id": "d91a5943-fa32-4212-b22c-1ccb2254428d",
   "metadata": {},
   "outputs": [],
   "source": [
    "int(\"1\") < 20"
   ]
  },
  {
   "cell_type": "code",
   "execution_count": null,
   "id": "7fd85cd8-bea5-4db2-aec3-41849e544054",
   "metadata": {},
   "outputs": [],
   "source": [
    "nums"
   ]
  },
  {
   "cell_type": "code",
   "execution_count": null,
   "id": "57621cd6-77cb-4852-8d14-2fb51a74fe9a",
   "metadata": {},
   "outputs": [],
   "source": [
    "sorted(nums, key=int) "
   ]
  },
  {
   "cell_type": "code",
   "execution_count": null,
   "id": "010fe5c9-bce5-4409-bfaf-210622c7c835",
   "metadata": {},
   "outputs": [],
   "source": [
    "nums"
   ]
  },
  {
   "cell_type": "code",
   "execution_count": null,
   "id": "519e915f-7abe-4a6e-851a-9fd210cc8e5a",
   "metadata": {},
   "outputs": [],
   "source": [
    "sorted(nums, key=int, reverse=True) "
   ]
  },
  {
   "cell_type": "code",
   "execution_count": null,
   "id": "b6110fbd-e604-4f4b-a3d3-e8ed38ceb872",
   "metadata": {},
   "outputs": [],
   "source": [
    "nums = [ 1, \"two\", \"1\", \"3\", 3, 2, \"one\", 5, 4, \"7\", \"1\", \"six\" ]"
   ]
  },
  {
   "cell_type": "code",
   "execution_count": null,
   "id": "e181dcdf-ea02-4d4b-915d-0fe111c19080",
   "metadata": {},
   "outputs": [],
   "source": [
    "nums"
   ]
  },
  {
   "cell_type": "code",
   "execution_count": null,
   "id": "49125552-25f8-495a-9661-9c9d04b37c7c",
   "metadata": {},
   "outputs": [],
   "source": [
    "sorted(nums, key=int, reverse=True) "
   ]
  },
  {
   "cell_type": "code",
   "execution_count": null,
   "id": "840dea20-2a0e-4a88-ab61-103bb0dabe12",
   "metadata": {},
   "outputs": [],
   "source": [
    "int(\"two\")"
   ]
  },
  {
   "cell_type": "code",
   "execution_count": null,
   "id": "d9380983-94e4-4fa0-a983-fe4685675ed1",
   "metadata": {},
   "outputs": [],
   "source": [
    "sorted(nums, key=str) "
   ]
  },
  {
   "cell_type": "code",
   "execution_count": null,
   "id": "7301a92a-a237-4317-a763-e8089de4c61e",
   "metadata": {},
   "outputs": [],
   "source": []
  },
  {
   "cell_type": "code",
   "execution_count": null,
   "id": "b20bffbc-d812-41bf-913f-196c3055e37d",
   "metadata": {},
   "outputs": [],
   "source": [
    "def convert2number(s):\n",
    "    if s == \"zero\": return 0\n",
    "    if s == \"one\": return 1\n",
    "    if s == \"two\": return 2\n",
    "    if s == \"three\": return 3\n",
    "    if s == \"four\": return 4\n",
    "    if s == \"five\": return 5\n",
    "    if s == \"six\": return 6\n",
    "    if s == \"seven\": return 7\n",
    "    if s == \"eight\": return 8\n",
    "    if s == \"nine\": return 9\n",
    "    if s == \"ten\": return 10\n",
    "    return int(s)"
   ]
  },
  {
   "cell_type": "code",
   "execution_count": null,
   "id": "37d6e515-97df-4179-88b0-514619bf9746",
   "metadata": {},
   "outputs": [],
   "source": [
    "convert2number(10)"
   ]
  },
  {
   "cell_type": "code",
   "execution_count": null,
   "id": "81465760-c511-40ed-9cfd-022de217532e",
   "metadata": {},
   "outputs": [],
   "source": [
    "convert2number(\"42\")"
   ]
  },
  {
   "cell_type": "code",
   "execution_count": null,
   "id": "ade8fc1a-c9a3-4787-a285-5acb4d13fe98",
   "metadata": {},
   "outputs": [],
   "source": [
    "convert2number(\"three\")"
   ]
  },
  {
   "cell_type": "code",
   "execution_count": null,
   "id": "bd106bf7-1a5f-49cf-baa4-326b52460e65",
   "metadata": {},
   "outputs": [],
   "source": [
    "nums"
   ]
  },
  {
   "cell_type": "code",
   "execution_count": null,
   "id": "82557781-a3f2-42a3-a699-56817ee2abb7",
   "metadata": {},
   "outputs": [],
   "source": [
    "sorted(nums, key=convert2number) "
   ]
  },
  {
   "cell_type": "code",
   "execution_count": null,
   "id": "7e45c344-e895-46a4-81d9-bb3efd3a4d58",
   "metadata": {},
   "outputs": [],
   "source": [
    "nums.append(\"Hello\")"
   ]
  },
  {
   "cell_type": "code",
   "execution_count": null,
   "id": "22894732-3212-45ac-97cc-443d9e9e61ea",
   "metadata": {},
   "outputs": [],
   "source": [
    "nums"
   ]
  },
  {
   "cell_type": "code",
   "execution_count": null,
   "id": "1e5ef324-4e60-47d6-b227-1a8f1161ab06",
   "metadata": {},
   "outputs": [],
   "source": [
    "sorted(nums, key=convert2number) "
   ]
  },
  {
   "cell_type": "code",
   "execution_count": null,
   "id": "4bf1e9e7-2d2a-4a97-bd8c-01ecbe7aa287",
   "metadata": {},
   "outputs": [],
   "source": [
    "import this"
   ]
  },
  {
   "cell_type": "code",
   "execution_count": null,
   "id": "64a3a069-e816-4a9a-9619-dbe0c901088f",
   "metadata": {},
   "outputs": [],
   "source": [
    "print(dir(nums))"
   ]
  },
  {
   "cell_type": "code",
   "execution_count": null,
   "id": "77362580-125c-4210-9fb2-8fa26a48ee31",
   "metadata": {},
   "outputs": [],
   "source": [
    "nums = [2, 3, 5, 3, 2, 56, 57, 60, 42, -3]"
   ]
  },
  {
   "cell_type": "code",
   "execution_count": null,
   "id": "d7d4ad44-efc2-49e0-8b64-4e9fb8480830",
   "metadata": {},
   "outputs": [],
   "source": [
    "print(nums)"
   ]
  },
  {
   "cell_type": "code",
   "execution_count": null,
   "id": "4cb92a7a-0ce1-4c66-a32f-01695842bbc2",
   "metadata": {},
   "outputs": [],
   "source": [
    "type(nums)"
   ]
  },
  {
   "cell_type": "code",
   "execution_count": null,
   "id": "8f70b794-4172-4f85-8ddc-0e8dd7c438e4",
   "metadata": {},
   "outputs": [],
   "source": [
    "len(nums)"
   ]
  },
  {
   "cell_type": "code",
   "execution_count": null,
   "id": "935fa5bb-5587-4444-b928-c4ada331d100",
   "metadata": {},
   "outputs": [],
   "source": [
    "sum(nums)"
   ]
  },
  {
   "cell_type": "code",
   "execution_count": null,
   "id": "30bd7b03-313f-4fbd-903b-11c51cf7e80b",
   "metadata": {},
   "outputs": [],
   "source": [
    "min(nums)"
   ]
  },
  {
   "cell_type": "code",
   "execution_count": null,
   "id": "f21cac49-9b8a-4af8-8caf-debaa41f9b54",
   "metadata": {},
   "outputs": [],
   "source": [
    "max(nums)"
   ]
  },
  {
   "cell_type": "code",
   "execution_count": null,
   "id": "ae05b1d8-7d20-4c40-8e66-d5c3f5b6dd09",
   "metadata": {},
   "outputs": [],
   "source": [
    "help(range)"
   ]
  },
  {
   "cell_type": "code",
   "execution_count": null,
   "id": "1cd94d3f-3b6a-4dd9-a76b-3587867e333e",
   "metadata": {},
   "outputs": [],
   "source": [
    "range(10)"
   ]
  },
  {
   "cell_type": "code",
   "execution_count": null,
   "id": "f1cc57ad-f8ac-4b17-8775-1993f42c0aa5",
   "metadata": {},
   "outputs": [],
   "source": [
    "list(range(10))  # STOP."
   ]
  },
  {
   "cell_type": "code",
   "execution_count": null,
   "id": "9bab2fde-63be-49b6-ae75-c8de84002f31",
   "metadata": {},
   "outputs": [],
   "source": [
    "print( list(range(10, 100)) )  # START, STOP."
   ]
  },
  {
   "cell_type": "code",
   "execution_count": null,
   "id": "735a8325-5dcb-446a-86cc-549f6d4e1fad",
   "metadata": {},
   "outputs": [],
   "source": [
    "print( list(range(10, 100, 10)) )   # START, STOP, STEP."
   ]
  },
  {
   "cell_type": "code",
   "execution_count": null,
   "id": "ba35d850-2815-4ac4-a20a-ce78a8ac18e2",
   "metadata": {},
   "outputs": [],
   "source": [
    "msg = \"Hello to all of you!\""
   ]
  },
  {
   "cell_type": "code",
   "execution_count": null,
   "id": "7f3e9989-3067-4e1b-8d5a-905ffce9bdeb",
   "metadata": {},
   "outputs": [],
   "source": [
    "for i in range(5):\n",
    "    print(msg)"
   ]
  },
  {
   "cell_type": "code",
   "execution_count": null,
   "id": "f526fba5-cde3-4492-9ebc-6d0905540c31",
   "metadata": {},
   "outputs": [],
   "source": [
    "for i in range(5):\n",
    "    print(msg, i)"
   ]
  },
  {
   "cell_type": "code",
   "execution_count": null,
   "id": "f36d822c-72d6-45cd-b9b8-89cff1a77329",
   "metadata": {},
   "outputs": [],
   "source": [
    "for _ in range(15):\n",
    "    print(msg)"
   ]
  },
  {
   "cell_type": "code",
   "execution_count": null,
   "id": "b1467ef4-bbff-4f0c-b10e-d8b48e203601",
   "metadata": {},
   "outputs": [],
   "source": [
    "_"
   ]
  },
  {
   "cell_type": "code",
   "execution_count": null,
   "id": "e99f51f1-96ba-47e0-9747-4905b6d6bd72",
   "metadata": {},
   "outputs": [],
   "source": [
    "list(range(15))"
   ]
  },
  {
   "cell_type": "code",
   "execution_count": null,
   "id": "13b41075-355a-4423-8fb8-f2aef2608b7c",
   "metadata": {},
   "outputs": [],
   "source": [
    "words = \"This is a test of the methods used with lists\".split()"
   ]
  },
  {
   "cell_type": "code",
   "execution_count": null,
   "id": "deab6c70-be12-4019-a7ae-bd76c66b5662",
   "metadata": {},
   "outputs": [],
   "source": [
    "words"
   ]
  },
  {
   "cell_type": "code",
   "execution_count": null,
   "id": "376efb23-84a2-4d59-9f95-781ecd20f892",
   "metadata": {},
   "outputs": [],
   "source": [
    "_, _, _, _, remember, *_ = \"This is a test of the methods used with lists\".split()"
   ]
  },
  {
   "cell_type": "code",
   "execution_count": null,
   "id": "52d469f0-d64e-45c2-bd52-ce38be637acf",
   "metadata": {},
   "outputs": [],
   "source": [
    "_"
   ]
  },
  {
   "cell_type": "code",
   "execution_count": null,
   "id": "fc885188-4f2c-4de4-9d06-a7144e6177c3",
   "metadata": {},
   "outputs": [],
   "source": [
    "remember"
   ]
  },
  {
   "cell_type": "code",
   "execution_count": null,
   "id": "f2fc7340-86b8-4e02-88a3-d709fd2daf4a",
   "metadata": {},
   "outputs": [],
   "source": [
    "a, b, c, d, remember, *the_rest = \"This is a test of the methods used with lists\".split()"
   ]
  },
  {
   "cell_type": "code",
   "execution_count": null,
   "id": "976b1c47-83a7-4951-890d-b493a4c671ab",
   "metadata": {},
   "outputs": [],
   "source": [
    "a, b, c, d"
   ]
  },
  {
   "cell_type": "code",
   "execution_count": null,
   "id": "113330e9-7d1c-42e6-9432-87f7a649630a",
   "metadata": {},
   "outputs": [],
   "source": [
    "the_rest"
   ]
  },
  {
   "cell_type": "code",
   "execution_count": null,
   "id": "729fb007-ffaa-40e7-b118-b2719211548b",
   "metadata": {},
   "outputs": [],
   "source": [
    "remember"
   ]
  },
  {
   "cell_type": "code",
   "execution_count": null,
   "id": "1307d4ed-bed5-4c24-a128-a3cb9d1952bb",
   "metadata": {},
   "outputs": [],
   "source": [
    "first = [\"Paul\", \"John\", \"George\", \"Ringo\"]\n",
    "second = [\"McCartney\", \"Lennon\", \"Harrison\", \"Starr\"]"
   ]
  },
  {
   "cell_type": "code",
   "execution_count": null,
   "id": "a8549b41-ba27-4354-9b03-a338f6f50b81",
   "metadata": {},
   "outputs": [],
   "source": [
    "zip(first, second)"
   ]
  },
  {
   "cell_type": "code",
   "execution_count": null,
   "id": "9fbc82f3-4f64-4504-8172-6f41d0b06c22",
   "metadata": {},
   "outputs": [],
   "source": [
    "list(zip(first, second))"
   ]
  },
  {
   "cell_type": "code",
   "execution_count": null,
   "id": "79fc4e94-fcfa-4b01-829e-b7351c9fae59",
   "metadata": {},
   "outputs": [],
   "source": [
    "first, second"
   ]
  },
  {
   "cell_type": "code",
   "execution_count": null,
   "id": "64e5cbff-3f33-4c48-8f01-83144a2fc927",
   "metadata": {},
   "outputs": [],
   "source": [
    "paul = ('Paul', 'McCartney')"
   ]
  },
  {
   "cell_type": "code",
   "execution_count": null,
   "id": "2822a2e9-a9e0-4df4-9f98-c4df2fb94fa5",
   "metadata": {},
   "outputs": [],
   "source": [
    "type(paul)"
   ]
  },
  {
   "cell_type": "code",
   "execution_count": null,
   "id": "9198f05a-c9f0-452e-b8fa-f18c022fedbb",
   "metadata": {},
   "outputs": [],
   "source": [
    "paul[0]"
   ]
  },
  {
   "cell_type": "code",
   "execution_count": null,
   "id": "57692a6f-143e-4a33-a6f7-5472dea03446",
   "metadata": {},
   "outputs": [],
   "source": [
    "paul[-1]"
   ]
  },
  {
   "cell_type": "code",
   "execution_count": null,
   "id": "bd41f8b0-bc7e-4ddf-8d7c-671cda88c23d",
   "metadata": {},
   "outputs": [],
   "source": [
    "paul.append(\"The happy one\")"
   ]
  },
  {
   "cell_type": "code",
   "execution_count": null,
   "id": "de41bdbf-5eb5-467f-a97c-e45238b8ab02",
   "metadata": {},
   "outputs": [],
   "source": [
    "print(dir(tuple))"
   ]
  },
  {
   "cell_type": "code",
   "execution_count": null,
   "id": "a57515a6-b42f-4830-a259-2f2119184854",
   "metadata": {},
   "outputs": [],
   "source": [
    "len(paul)"
   ]
  },
  {
   "cell_type": "code",
   "execution_count": null,
   "id": "86401581-a399-4fb3-804b-5c812968f9f3",
   "metadata": {},
   "outputs": [],
   "source": [
    "paul.count(\"McCartney\")"
   ]
  },
  {
   "cell_type": "code",
   "execution_count": null,
   "id": "ba01e60b-6343-412f-a4c8-11059918f484",
   "metadata": {},
   "outputs": [],
   "source": [
    "paul"
   ]
  },
  {
   "cell_type": "code",
   "execution_count": null,
   "id": "57384679-76a8-4277-921a-46f929cb4cc6",
   "metadata": {},
   "outputs": [],
   "source": [
    "paul[0] = \"Mike\""
   ]
  },
  {
   "cell_type": "code",
   "execution_count": null,
   "id": "8272336f-72f8-4e75-b367-55f77f1feb75",
   "metadata": {},
   "outputs": [],
   "source": [
    "def convert2number(s):\n",
    "    if s == \"zero\": return 0\n",
    "    if s == \"one\": return 1\n",
    "    if s == \"two\": return 2\n",
    "    if s == \"three\": return 3\n",
    "    if s == \"four\": return 4\n",
    "    if s == \"five\": return 5\n",
    "    if s == \"six\": return 6\n",
    "    if s == \"seven\": return 7\n",
    "    if s == \"eight\": return 8\n",
    "    if s == \"nine\": return 9\n",
    "    if s == \"ten\": return 10\n",
    "    return int(s), True"
   ]
  },
  {
   "cell_type": "code",
   "execution_count": null,
   "id": "8a3364ed-e98a-447c-87b3-6697b4705e52",
   "metadata": {},
   "outputs": [],
   "source": [
    "convert2number(66)"
   ]
  },
  {
   "cell_type": "code",
   "execution_count": null,
   "id": "21eae2e6-d254-4717-b2bd-63ffb9279cb5",
   "metadata": {},
   "outputs": [],
   "source": [
    "nums"
   ]
  },
  {
   "cell_type": "code",
   "execution_count": null,
   "id": "a0279912-0bd8-4484-9877-bef8eef7462e",
   "metadata": {},
   "outputs": [],
   "source": [
    "set(nums)"
   ]
  },
  {
   "cell_type": "code",
   "execution_count": null,
   "id": "5457161a-85d7-4847-9c77-5bcd96f1e8dd",
   "metadata": {},
   "outputs": [],
   "source": [
    "s = set(nums)\n",
    "s"
   ]
  },
  {
   "cell_type": "code",
   "execution_count": null,
   "id": "462109dd-036c-426f-b8e2-5ec736fb5343",
   "metadata": {},
   "outputs": [],
   "source": [
    "s.add(42)"
   ]
  },
  {
   "cell_type": "code",
   "execution_count": null,
   "id": "321b8e05-1442-465b-8c67-cba81fd86cec",
   "metadata": {},
   "outputs": [],
   "source": [
    "s"
   ]
  },
  {
   "cell_type": "code",
   "execution_count": null,
   "id": "76ca8efb-466a-4ba8-86ff-7af7f15df777",
   "metadata": {},
   "outputs": [],
   "source": [
    "nums"
   ]
  },
  {
   "cell_type": "code",
   "execution_count": null,
   "id": "6a21940f-6134-48e6-90f2-e5827a665aae",
   "metadata": {},
   "outputs": [],
   "source": [
    "nums = list(set(nums))"
   ]
  },
  {
   "cell_type": "code",
   "execution_count": null,
   "id": "cd3efcea-e281-4013-bcd2-37ce275b18d7",
   "metadata": {},
   "outputs": [],
   "source": [
    "nums"
   ]
  },
  {
   "cell_type": "code",
   "execution_count": null,
   "id": "b06f5dbe-ffda-4fcf-a797-c75d4e69696a",
   "metadata": {},
   "outputs": [],
   "source": [
    "print(dir(s))"
   ]
  },
  {
   "cell_type": "code",
   "execution_count": null,
   "id": "1f2c73c9-c4d4-4bc1-9671-bdc5fcfd2dfa",
   "metadata": {},
   "outputs": [],
   "source": [
    "help(s.symmetric_difference_update)"
   ]
  },
  {
   "cell_type": "code",
   "execution_count": null,
   "id": "ea713a71-6036-4ee5-b770-a7a732db05b7",
   "metadata": {},
   "outputs": [],
   "source": []
  },
  {
   "cell_type": "code",
   "execution_count": null,
   "id": "3ff72739-b34d-4521-b35d-8b6d75e8541e",
   "metadata": {},
   "outputs": [],
   "source": []
  }
 ],
 "metadata": {
  "kernelspec": {
   "display_name": "Python 3 (ipykernel)",
   "language": "python",
   "name": "python3"
  },
  "language_info": {
   "codemirror_mode": {
    "name": "ipython",
    "version": 3
   },
   "file_extension": ".py",
   "mimetype": "text/x-python",
   "name": "python",
   "nbconvert_exporter": "python",
   "pygments_lexer": "ipython3",
   "version": "3.13.7"
  }
 },
 "nbformat": 4,
 "nbformat_minor": 5
}
