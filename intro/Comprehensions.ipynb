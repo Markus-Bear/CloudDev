{
 "cells": [
  {
   "cell_type": "code",
   "execution_count": 1,
   "id": "a316c5a1-77c3-4bd9-980a-6040a7b60f6a",
   "metadata": {},
   "outputs": [],
   "source": [
    "nums = [1, 3, 6, 9]"
   ]
  },
  {
   "cell_type": "code",
   "execution_count": 2,
   "id": "48cc8527-d4d9-4ab3-a5e3-5580487a709f",
   "metadata": {},
   "outputs": [],
   "source": [
    "nums2 = []\n",
    "for n in nums:\n",
    "    nums2.append(n*n)   #Transformation."
   ]
  },
  {
   "cell_type": "code",
   "execution_count": 3,
   "id": "27487bc9-e146-447e-be59-d76dd2452a59",
   "metadata": {},
   "outputs": [
    {
     "data": {
      "text/plain": [
       "[1, 3, 6, 9]"
      ]
     },
     "execution_count": 3,
     "metadata": {},
     "output_type": "execute_result"
    }
   ],
   "source": [
    "nums"
   ]
  },
  {
   "cell_type": "code",
   "execution_count": 4,
   "id": "ee1f3f90-5dbb-48bd-a478-146565fba581",
   "metadata": {},
   "outputs": [
    {
     "data": {
      "text/plain": [
       "[1, 9, 36, 81]"
      ]
     },
     "execution_count": 4,
     "metadata": {},
     "output_type": "execute_result"
    }
   ],
   "source": [
    "nums2"
   ]
  },
  {
   "cell_type": "code",
   "execution_count": 5,
   "id": "fc497421-110c-478d-ab72-bbffc68d39cd",
   "metadata": {},
   "outputs": [],
   "source": [
    "nums3 = [ n*n for n in nums ]"
   ]
  },
  {
   "cell_type": "code",
   "execution_count": 11,
   "id": "25a35244-e43b-4a95-b258-3937d1ee3975",
   "metadata": {},
   "outputs": [
    {
     "data": {
      "text/plain": [
       "[1, 9, 36, 81]"
      ]
     },
     "execution_count": 11,
     "metadata": {},
     "output_type": "execute_result"
    }
   ],
   "source": [
    "nums3"
   ]
  },
  {
   "cell_type": "code",
   "execution_count": 12,
   "id": "f7c842ce-1b83-4765-87a9-88cd30f28b0c",
   "metadata": {},
   "outputs": [],
   "source": [
    "words = \"So long and thanks for all the fish\".split()"
   ]
  },
  {
   "cell_type": "code",
   "execution_count": 13,
   "id": "5eb2084f-20cd-4e9a-9014-ff929f0c5b52",
   "metadata": {},
   "outputs": [
    {
     "data": {
      "text/plain": [
       "['So', 'long', 'and', 'thanks', 'for', 'all', 'the', 'fish']"
      ]
     },
     "execution_count": 13,
     "metadata": {},
     "output_type": "execute_result"
    }
   ],
   "source": [
    "words"
   ]
  },
  {
   "cell_type": "code",
   "execution_count": 14,
   "id": "9795401f-1d99-46f1-bd03-13b99a49a3fd",
   "metadata": {},
   "outputs": [],
   "source": [
    "nums = [1, 3, 6, 9]\n",
    "\n",
    "big = []\n",
    "for n in nums:\n",
    "    if n > 3:\n",
    "        big.append(n)    #Filter"
   ]
  },
  {
   "cell_type": "code",
   "execution_count": 15,
   "id": "7e4b18d5-770f-48f3-a281-336c1d829c76",
   "metadata": {},
   "outputs": [
    {
     "data": {
      "text/plain": [
       "[6, 9]"
      ]
     },
     "execution_count": 15,
     "metadata": {},
     "output_type": "execute_result"
    }
   ],
   "source": [
    "big"
   ]
  },
  {
   "cell_type": "code",
   "execution_count": 16,
   "id": "3ccee66d-f5d2-417e-8925-52cb1bff3eb1",
   "metadata": {},
   "outputs": [],
   "source": [
    "big2 = [n for n in nums if n > 3]"
   ]
  },
  {
   "cell_type": "code",
   "execution_count": 17,
   "id": "5b0dc7b1-0e88-4f32-bebd-568d1a643d32",
   "metadata": {},
   "outputs": [
    {
     "data": {
      "text/plain": [
       "[6, 9]"
      ]
     },
     "execution_count": 17,
     "metadata": {},
     "output_type": "execute_result"
    }
   ],
   "source": [
    "big2"
   ]
  },
  {
   "cell_type": "code",
   "execution_count": 20,
   "id": "585b25ec-fc89-4ed1-b4f7-9a2380ea2c43",
   "metadata": {},
   "outputs": [],
   "source": [
    "both = [n*n for n in nums if n > 3]  #Filter/Transformation."
   ]
  },
  {
   "cell_type": "code",
   "execution_count": 19,
   "id": "e79c7ffb-6ae6-438d-8750-bdb248f22c60",
   "metadata": {},
   "outputs": [
    {
     "data": {
      "text/plain": [
       "[36, 81]"
      ]
     },
     "execution_count": 19,
     "metadata": {},
     "output_type": "execute_result"
    }
   ],
   "source": [
    "both"
   ]
  },
  {
   "cell_type": "code",
   "execution_count": 21,
   "id": "c2b11249-1e1a-4df9-ba2c-9d6532068cbb",
   "metadata": {},
   "outputs": [],
   "source": [
    "both = [ n*n for n in nums if n*n > 40]"
   ]
  },
  {
   "cell_type": "code",
   "execution_count": 22,
   "id": "554691e7-9217-4d35-a476-d8570754d066",
   "metadata": {},
   "outputs": [
    {
     "data": {
      "text/plain": [
       "[81]"
      ]
     },
     "execution_count": 22,
     "metadata": {},
     "output_type": "execute_result"
    }
   ],
   "source": [
    "both"
   ]
  },
  {
   "cell_type": "code",
   "execution_count": 23,
   "id": "d6d9267e-99ee-4990-ae1e-ca6de00f3905",
   "metadata": {},
   "outputs": [],
   "source": [
    "names = [\"one\", \"two\", \"three\"]\n",
    "values = [111111, 222222, 333333]"
   ]
  },
  {
   "cell_type": "code",
   "execution_count": 25,
   "id": "e0152f05-4bf0-4d49-9394-6b1e992afea7",
   "metadata": {},
   "outputs": [],
   "source": [
    "d = {}\n",
    "\n",
    "for k, v in zip(names, values):\n",
    "    d[k] = v"
   ]
  },
  {
   "cell_type": "code",
   "execution_count": 26,
   "id": "5f0d21f2-5ef2-4a69-be71-20af264cf9d6",
   "metadata": {},
   "outputs": [
    {
     "data": {
      "text/plain": [
       "{'one': 111111, 'two': 222222, 'three': 333333}"
      ]
     },
     "execution_count": 26,
     "metadata": {},
     "output_type": "execute_result"
    }
   ],
   "source": [
    "d"
   ]
  },
  {
   "cell_type": "code",
   "execution_count": 27,
   "id": "e29657a5-5a97-475c-a387-52e5dd47a0b5",
   "metadata": {},
   "outputs": [],
   "source": [
    "d2 = {k: v for k, v in zip(names, values)}"
   ]
  },
  {
   "cell_type": "code",
   "execution_count": 28,
   "id": "1217df53-cb87-437a-8260-4a03604258ed",
   "metadata": {},
   "outputs": [
    {
     "data": {
      "text/plain": [
       "{'one': 111111, 'two': 222222, 'three': 333333}"
      ]
     },
     "execution_count": 28,
     "metadata": {},
     "output_type": "execute_result"
    }
   ],
   "source": [
    "d2"
   ]
  },
  {
   "cell_type": "code",
   "execution_count": 29,
   "id": "7c613a41-a749-4571-8a9f-049843bfcb4b",
   "metadata": {},
   "outputs": [
    {
     "data": {
      "text/plain": [
       "<zip at 0x136e1274a40>"
      ]
     },
     "execution_count": 29,
     "metadata": {},
     "output_type": "execute_result"
    }
   ],
   "source": [
    "zip(names, values)"
   ]
  },
  {
   "cell_type": "code",
   "execution_count": 30,
   "id": "af5b8f31-6ab6-40b0-9bff-9b041e191126",
   "metadata": {},
   "outputs": [
    {
     "data": {
      "text/plain": [
       "[('one', 111111), ('two', 222222), ('three', 333333)]"
      ]
     },
     "execution_count": 30,
     "metadata": {},
     "output_type": "execute_result"
    }
   ],
   "source": [
    "list(zip(names, values))"
   ]
  },
  {
   "cell_type": "code",
   "execution_count": 31,
   "id": "c03a55fb-aec8-4034-b725-94279d8a93df",
   "metadata": {},
   "outputs": [
    {
     "data": {
      "text/plain": [
       "{'one': 111111, 'two': 222222, 'three': 333333}"
      ]
     },
     "execution_count": 31,
     "metadata": {},
     "output_type": "execute_result"
    }
   ],
   "source": [
    "d2"
   ]
  },
  {
   "cell_type": "code",
   "execution_count": 32,
   "id": "08f4e7ab-b329-43f3-9369-bcf5179d7de0",
   "metadata": {},
   "outputs": [],
   "source": [
    "d3 = {v: k for k, v in d2.items()}"
   ]
  },
  {
   "cell_type": "code",
   "execution_count": 33,
   "id": "86803e08-c149-468c-828d-be225c6d4ecb",
   "metadata": {},
   "outputs": [
    {
     "data": {
      "text/plain": [
       "{111111: 'one', 222222: 'two', 333333: 'three'}"
      ]
     },
     "execution_count": 33,
     "metadata": {},
     "output_type": "execute_result"
    }
   ],
   "source": [
    "d3"
   ]
  },
  {
   "cell_type": "code",
   "execution_count": 34,
   "id": "76f5ff53-733f-4dc8-9277-596d391096a5",
   "metadata": {},
   "outputs": [
    {
     "data": {
      "text/plain": [
       "{'one': 111111, 'two': 222222, 'three': 333333}"
      ]
     },
     "execution_count": 34,
     "metadata": {},
     "output_type": "execute_result"
    }
   ],
   "source": [
    "d2"
   ]
  },
  {
   "cell_type": "code",
   "execution_count": 35,
   "id": "c8fcf71c-5caa-4045-a171-182d3e5a6b21",
   "metadata": {},
   "outputs": [],
   "source": [
    "d2[\"four\"] = 222222"
   ]
  },
  {
   "cell_type": "code",
   "execution_count": 36,
   "id": "5c812cc0-1a64-43cd-96e0-d244708ec0bd",
   "metadata": {},
   "outputs": [
    {
     "data": {
      "text/plain": [
       "{'one': 111111, 'two': 222222, 'three': 333333, 'four': 222222}"
      ]
     },
     "execution_count": 36,
     "metadata": {},
     "output_type": "execute_result"
    }
   ],
   "source": [
    "d2"
   ]
  },
  {
   "cell_type": "code",
   "execution_count": 37,
   "id": "cc62168a-3db6-4176-9fba-8e4ec726d39d",
   "metadata": {},
   "outputs": [],
   "source": [
    "d4 = {v: k for k, v in d2.items()}"
   ]
  },
  {
   "cell_type": "code",
   "execution_count": 38,
   "id": "2a720db9-65a4-4c8e-a358-db344187a0dd",
   "metadata": {},
   "outputs": [
    {
     "data": {
      "text/plain": [
       "{111111: 'one', 222222: 'four', 333333: 'three'}"
      ]
     },
     "execution_count": 38,
     "metadata": {},
     "output_type": "execute_result"
    }
   ],
   "source": [
    "d4"
   ]
  },
  {
   "cell_type": "code",
   "execution_count": 39,
   "id": "fea68250-55df-4ed7-99e7-955720d7414b",
   "metadata": {},
   "outputs": [
    {
     "name": "stdout",
     "output_type": "stream",
     "text": [
      "one\n",
      "two\n",
      "three\n",
      "four\n"
     ]
    }
   ],
   "source": [
    "for row in d2:\n",
    "    print(row)"
   ]
  },
  {
   "cell_type": "code",
   "execution_count": 40,
   "id": "6cce6f55-a78f-46d6-a227-42374d91009e",
   "metadata": {},
   "outputs": [
    {
     "name": "stdout",
     "output_type": "stream",
     "text": [
      "('one', 111111)\n",
      "('two', 222222)\n",
      "('three', 333333)\n",
      "('four', 222222)\n"
     ]
    }
   ],
   "source": [
    "for row in d2.items():\n",
    "    print(row)"
   ]
  },
  {
   "cell_type": "code",
   "execution_count": 41,
   "id": "829bf1ad-6dd5-4d15-a83b-821236f32e3c",
   "metadata": {},
   "outputs": [
    {
     "name": "stdout",
     "output_type": "stream",
     "text": [
      "('four', 222222)\n",
      "('one', 111111)\n",
      "('three', 333333)\n",
      "('two', 222222)\n"
     ]
    }
   ],
   "source": [
    "for row in sorted(d2.items()):\n",
    "    print(row)"
   ]
  },
  {
   "cell_type": "code",
   "execution_count": 43,
   "id": "6eba35d7-50b1-432e-8b2c-c9813034f022",
   "metadata": {},
   "outputs": [
    {
     "name": "stdout",
     "output_type": "stream",
     "text": [
      "('two', 222222)\n",
      "('three', 333333)\n",
      "('one', 111111)\n",
      "('four', 222222)\n"
     ]
    }
   ],
   "source": [
    "for row in sorted(d2.items(), reverse = True):\n",
    "    print(row)"
   ]
  },
  {
   "cell_type": "code",
   "execution_count": 44,
   "id": "8291d088-3000-4afd-8ae9-7f4d583b58d0",
   "metadata": {},
   "outputs": [
    {
     "name": "stdout",
     "output_type": "stream",
     "text": [
      "['__class__', '__class_getitem__', '__contains__', '__delattr__', '__delitem__', '__dir__', '__doc__', '__eq__', '__format__', '__ge__', '__getattribute__', '__getitem__', '__getstate__', '__gt__', '__hash__', '__init__', '__init_subclass__', '__ior__', '__iter__', '__le__', '__len__', '__lt__', '__ne__', '__new__', '__or__', '__reduce__', '__reduce_ex__', '__repr__', '__reversed__', '__ror__', '__setattr__', '__setitem__', '__sizeof__', '__str__', '__subclasshook__', 'clear', 'copy', 'fromkeys', 'get', 'items', 'keys', 'pop', 'popitem', 'setdefault', 'update', 'values']\n"
     ]
    }
   ],
   "source": [
    "print(dir(d2))"
   ]
  },
  {
   "cell_type": "code",
   "execution_count": 46,
   "id": "34de2a41-8bda-4f30-9bc7-8769fa7054ac",
   "metadata": {},
   "outputs": [
    {
     "name": "stdout",
     "output_type": "stream",
     "text": [
      "one 111111\n",
      "two 222222\n",
      "four 222222\n",
      "three 333333\n"
     ]
    }
   ],
   "source": [
    " for k in sorted(d2.keys(), key=d2.get):\n",
    "     print(k,d2[k])"
   ]
  },
  {
   "cell_type": "code",
   "execution_count": 47,
   "id": "4af18155-b8aa-4291-b5b0-53ae53775006",
   "metadata": {},
   "outputs": [
    {
     "name": "stdout",
     "output_type": "stream",
     "text": [
      "three 333333\n",
      "two 222222\n",
      "four 222222\n",
      "one 111111\n"
     ]
    }
   ],
   "source": [
    " for k in sorted(d2.keys(), key=d2.get, reverse=True):\n",
    "     print(k,d2[k])"
   ]
  },
  {
   "cell_type": "code",
   "execution_count": null,
   "id": "5e250e7b-59a3-49a5-afc7-4ae208ee6d1f",
   "metadata": {},
   "outputs": [],
   "source": []
  }
 ],
 "metadata": {
  "kernelspec": {
   "display_name": "Python 3 (ipykernel)",
   "language": "python",
   "name": "python3"
  },
  "language_info": {
   "codemirror_mode": {
    "name": "ipython",
    "version": 3
   },
   "file_extension": ".py",
   "mimetype": "text/x-python",
   "name": "python",
   "nbconvert_exporter": "python",
   "pygments_lexer": "ipython3",
   "version": "3.13.7"
  }
 },
 "nbformat": 4,
 "nbformat_minor": 5
}
