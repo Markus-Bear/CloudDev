{
 "cells": [
  {
   "cell_type": "code",
   "execution_count": 11,
   "id": "1be8ac64-ec22-4e5f-91a7-dd0664adaf3a",
   "metadata": {},
   "outputs": [],
   "source": [
    "person = [\"name\", \"Paul\", \"location\", \"Carlow\", \"age\", 21]"
   ]
  },
  {
   "cell_type": "code",
   "execution_count": 12,
   "id": "a9313806-1b4b-4cba-a044-7975f61d87dd",
   "metadata": {},
   "outputs": [
    {
     "data": {
      "text/plain": [
       "['name', 'Paul', 'location', 'Carlow', 'age', 21]"
      ]
     },
     "execution_count": 12,
     "metadata": {},
     "output_type": "execute_result"
    }
   ],
   "source": [
    "person"
   ]
  },
  {
   "cell_type": "code",
   "execution_count": 13,
   "id": "d9d60bd2-ae66-49e2-818f-1043dc223aad",
   "metadata": {},
   "outputs": [],
   "source": [
    "person = {\"name\", \"Paul\", \"location\", \"Carlow\", \"age\", 21}"
   ]
  },
  {
   "cell_type": "code",
   "execution_count": 14,
   "id": "8c1f4fa5-4533-4a67-9eac-ad83ebb06e4f",
   "metadata": {},
   "outputs": [
    {
     "data": {
      "text/plain": [
       "set"
      ]
     },
     "execution_count": 14,
     "metadata": {},
     "output_type": "execute_result"
    }
   ],
   "source": [
    "type(person)"
   ]
  },
  {
   "cell_type": "code",
   "execution_count": 15,
   "id": "161083fa-e8b7-479d-a505-1b1df11f9928",
   "metadata": {},
   "outputs": [],
   "source": [
    "person = {\n",
    "    \"name\": \"Paul\", \n",
    "    \"location\": \"Carlow\",\n",
    "    \"age\": 21\n",
    "}"
   ]
  },
  {
   "cell_type": "code",
   "execution_count": 16,
   "id": "3af91f11-266d-46ac-8b3e-e1533877032e",
   "metadata": {},
   "outputs": [
    {
     "data": {
      "text/plain": [
       "dict"
      ]
     },
     "execution_count": 16,
     "metadata": {},
     "output_type": "execute_result"
    }
   ],
   "source": [
    "type(person)"
   ]
  },
  {
   "cell_type": "code",
   "execution_count": 17,
   "id": "fe523ed5-af35-4afb-be3e-c16920af1a2c",
   "metadata": {},
   "outputs": [
    {
     "data": {
      "text/plain": [
       "3"
      ]
     },
     "execution_count": 17,
     "metadata": {},
     "output_type": "execute_result"
    }
   ],
   "source": [
    "len(person)"
   ]
  },
  {
   "cell_type": "code",
   "execution_count": 18,
   "id": "49236872-02d2-4f71-9fd2-5ed2c2bf8779",
   "metadata": {},
   "outputs": [
    {
     "data": {
      "text/plain": [
       "21"
      ]
     },
     "execution_count": 18,
     "metadata": {},
     "output_type": "execute_result"
    }
   ],
   "source": [
    "person[\"age\"]"
   ]
  },
  {
   "cell_type": "code",
   "execution_count": 19,
   "id": "57ce6f1d-4b8b-4d4d-a0ef-12bbe8bc146b",
   "metadata": {},
   "outputs": [],
   "source": [
    "person[\"age\"] = 31"
   ]
  },
  {
   "cell_type": "code",
   "execution_count": 20,
   "id": "db5700f5-2b67-4bd3-9358-27fb3be19938",
   "metadata": {},
   "outputs": [
    {
     "data": {
      "text/plain": [
       "31"
      ]
     },
     "execution_count": 20,
     "metadata": {},
     "output_type": "execute_result"
    }
   ],
   "source": [
    "person[\"age\"]"
   ]
  },
  {
   "cell_type": "code",
   "execution_count": 21,
   "id": "22811ae0-4865-44b9-9883-68961326ef08",
   "metadata": {},
   "outputs": [],
   "source": [
    "person[\"employer\"] = \"SETU\""
   ]
  },
  {
   "cell_type": "code",
   "execution_count": 22,
   "id": "0eb42578-9b67-485d-98ed-0abb40582aa0",
   "metadata": {},
   "outputs": [
    {
     "data": {
      "text/plain": [
       "{'name': 'Paul', 'location': 'Carlow', 'age': 31, 'employer': 'SETU'}"
      ]
     },
     "execution_count": 22,
     "metadata": {},
     "output_type": "execute_result"
    }
   ],
   "source": [
    "person"
   ]
  },
  {
   "cell_type": "code",
   "execution_count": 23,
   "id": "3c4895ae-e985-4673-94b7-720925f5fa7e",
   "metadata": {},
   "outputs": [],
   "source": [
    "person[\"likes\"] = [\"Python\", \"Guitar\", \"Arsenal\", \"Books\"]"
   ]
  },
  {
   "cell_type": "code",
   "execution_count": 24,
   "id": "f81065d8-e819-48a0-990a-bc7b95747a3d",
   "metadata": {},
   "outputs": [
    {
     "data": {
      "text/plain": [
       "{'name': 'Paul',\n",
       " 'location': 'Carlow',\n",
       " 'age': 31,\n",
       " 'employer': 'SETU',\n",
       " 'likes': ['Python', 'Guitar', 'Arsenal', 'Books']}"
      ]
     },
     "execution_count": 24,
     "metadata": {},
     "output_type": "execute_result"
    }
   ],
   "source": [
    "person"
   ]
  },
  {
   "cell_type": "code",
   "execution_count": 25,
   "id": "3e3fed7e-322a-453b-88ac-0be5c12fbaa0",
   "metadata": {},
   "outputs": [
    {
     "data": {
      "text/plain": [
       "5"
      ]
     },
     "execution_count": 25,
     "metadata": {},
     "output_type": "execute_result"
    }
   ],
   "source": [
    "len(person)"
   ]
  },
  {
   "cell_type": "code",
   "execution_count": 27,
   "id": "a01afe1d-ffca-452a-8d60-e1937204553c",
   "metadata": {},
   "outputs": [
    {
     "data": {
      "text/plain": [
       "['Python', 'Guitar', 'Arsenal', 'Books']"
      ]
     },
     "execution_count": 27,
     "metadata": {},
     "output_type": "execute_result"
    }
   ],
   "source": [
    "person[\"likes\"]"
   ]
  },
  {
   "cell_type": "code",
   "execution_count": 28,
   "id": "27ef6def-2879-4988-959a-4e2348323584",
   "metadata": {},
   "outputs": [
    {
     "data": {
      "text/plain": [
       "'Books'"
      ]
     },
     "execution_count": 28,
     "metadata": {},
     "output_type": "execute_result"
    }
   ],
   "source": [
    "person[\"likes\"] [-1]"
   ]
  },
  {
   "cell_type": "code",
   "execution_count": 29,
   "id": "9d6ee588-5d91-4ec9-9b2a-2e3a6b08ede5",
   "metadata": {},
   "outputs": [],
   "source": [
    "person[\"likes\"].append(\"The Dog\")"
   ]
  },
  {
   "cell_type": "code",
   "execution_count": 30,
   "id": "0cdb09a9-2699-46bb-a6c1-78cedd60a18c",
   "metadata": {},
   "outputs": [
    {
     "data": {
      "text/plain": [
       "{'name': 'Paul',\n",
       " 'location': 'Carlow',\n",
       " 'age': 31,\n",
       " 'employer': 'SETU',\n",
       " 'likes': ['Python', 'Guitar', 'Arsenal', 'Books', 'The Dog']}"
      ]
     },
     "execution_count": 30,
     "metadata": {},
     "output_type": "execute_result"
    }
   ],
   "source": [
    "person"
   ]
  },
  {
   "cell_type": "code",
   "execution_count": 31,
   "id": "9cd3b68d-065b-4299-bad7-99ddb4ed004b",
   "metadata": {},
   "outputs": [],
   "source": [
    "person[\"details\"] = {\n",
    "    \"bank\": \"PTSB\",\n",
    "    \"account\": \"current\",\n",
    "    \"balance\": \"unknown\"\n",
    "}"
   ]
  },
  {
   "cell_type": "code",
   "execution_count": 32,
   "id": "2f799129-c951-498c-a769-835b1b88c95c",
   "metadata": {},
   "outputs": [
    {
     "data": {
      "text/plain": [
       "{'name': 'Paul',\n",
       " 'location': 'Carlow',\n",
       " 'age': 31,\n",
       " 'employer': 'SETU',\n",
       " 'likes': ['Python', 'Guitar', 'Arsenal', 'Books', 'The Dog'],\n",
       " 'details': {'bank': 'PTSB', 'account': 'current', 'balance': 'unknown'}}"
      ]
     },
     "execution_count": 32,
     "metadata": {},
     "output_type": "execute_result"
    }
   ],
   "source": [
    "person"
   ]
  },
  {
   "cell_type": "code",
   "execution_count": 33,
   "id": "67867206-31e2-46ba-8745-af2298df2213",
   "metadata": {},
   "outputs": [
    {
     "data": {
      "text/plain": [
       "'current'"
      ]
     },
     "execution_count": 33,
     "metadata": {},
     "output_type": "execute_result"
    }
   ],
   "source": [
    "person[\"details\"] [\"account\"]"
   ]
  },
  {
   "cell_type": "code",
   "execution_count": 34,
   "id": "83aeba38-eab5-4de4-bfc2-8e96104fa1a8",
   "metadata": {},
   "outputs": [
    {
     "name": "stdout",
     "output_type": "stream",
     "text": [
      "['__class__', '__class_getitem__', '__contains__', '__delattr__', '__delitem__', '__dir__', '__doc__', '__eq__', '__format__', '__ge__', '__getattribute__', '__getitem__', '__getstate__', '__gt__', '__hash__', '__init__', '__init_subclass__', '__ior__', '__iter__', '__le__', '__len__', '__lt__', '__ne__', '__new__', '__or__', '__reduce__', '__reduce_ex__', '__repr__', '__reversed__', '__ror__', '__setattr__', '__setitem__', '__sizeof__', '__str__', '__subclasshook__', 'clear', 'copy', 'fromkeys', 'get', 'items', 'keys', 'pop', 'popitem', 'setdefault', 'update', 'values']\n"
     ]
    }
   ],
   "source": [
    "print(dir(person))"
   ]
  },
  {
   "cell_type": "code",
   "execution_count": 35,
   "id": "c6d26d3a-5f23-4637-98ac-0ad87c249af1",
   "metadata": {},
   "outputs": [],
   "source": [
    "person.clear()"
   ]
  },
  {
   "cell_type": "code",
   "execution_count": 36,
   "id": "57d32639-ef26-42da-9d30-077396126d45",
   "metadata": {},
   "outputs": [
    {
     "data": {
      "text/plain": [
       "{}"
      ]
     },
     "execution_count": 36,
     "metadata": {},
     "output_type": "execute_result"
    }
   ],
   "source": [
    "person"
   ]
  },
  {
   "cell_type": "code",
   "execution_count": 37,
   "id": "89f42bf9-78d9-4ac5-8ebd-c875a4c08fed",
   "metadata": {},
   "outputs": [
    {
     "data": {
      "text/plain": [
       "0"
      ]
     },
     "execution_count": 37,
     "metadata": {},
     "output_type": "execute_result"
    }
   ],
   "source": [
    "len(person)"
   ]
  },
  {
   "cell_type": "code",
   "execution_count": 38,
   "id": "db5d8551-d90f-4842-99c2-b9c8fec00c98",
   "metadata": {},
   "outputs": [],
   "source": [
    "person = {}"
   ]
  },
  {
   "cell_type": "code",
   "execution_count": 39,
   "id": "3c8f74f0-f457-4916-b4f5-c1ce3c8742ba",
   "metadata": {},
   "outputs": [],
   "source": [
    "person = {'name': 'Paul',\n",
    " 'location': 'Carlow',\n",
    " 'age': 31,\n",
    " 'employer': 'SETU',\n",
    " 'likes': ['Python', 'Guitar', 'Arsenal', 'Books', 'The Dog'],\n",
    " 'details': {'bank': 'PTSB', 'account': 'current', 'balance': 'unknown'}}"
   ]
  },
  {
   "cell_type": "code",
   "execution_count": 40,
   "id": "4e0f8cdb-ad57-4ac0-baf1-9dd38be70bde",
   "metadata": {},
   "outputs": [
    {
     "data": {
      "text/plain": [
       "{'name': 'Paul',\n",
       " 'location': 'Carlow',\n",
       " 'age': 31,\n",
       " 'employer': 'SETU',\n",
       " 'likes': ['Python', 'Guitar', 'Arsenal', 'Books', 'The Dog'],\n",
       " 'details': {'bank': 'PTSB', 'account': 'current', 'balance': 'unknown'}}"
      ]
     },
     "execution_count": 40,
     "metadata": {},
     "output_type": "execute_result"
    }
   ],
   "source": [
    "person"
   ]
  },
  {
   "cell_type": "code",
   "execution_count": 42,
   "id": "460f8aea-903e-4231-b119-f9ec6c2d2a6d",
   "metadata": {},
   "outputs": [],
   "source": [
    "person2 = person"
   ]
  },
  {
   "cell_type": "code",
   "execution_count": 43,
   "id": "3ad2a242-c3d6-4e3f-af8b-7d8c39387ccc",
   "metadata": {},
   "outputs": [],
   "source": [
    "person2[\"outlook\"] = \"sunny\""
   ]
  },
  {
   "cell_type": "code",
   "execution_count": 44,
   "id": "744bf8f4-546e-4899-bfa2-f457581f3bf0",
   "metadata": {},
   "outputs": [
    {
     "data": {
      "text/plain": [
       "{'name': 'Paul',\n",
       " 'location': 'Carlow',\n",
       " 'age': 31,\n",
       " 'employer': 'SETU',\n",
       " 'likes': ['Python', 'Guitar', 'Arsenal', 'Books', 'The Dog'],\n",
       " 'details': {'bank': 'PTSB', 'account': 'current', 'balance': 'unknown'},\n",
       " 'outlook': 'sunny'}"
      ]
     },
     "execution_count": 44,
     "metadata": {},
     "output_type": "execute_result"
    }
   ],
   "source": [
    "person2"
   ]
  },
  {
   "cell_type": "code",
   "execution_count": 45,
   "id": "d324018f-7e70-4e87-8d5d-a4e8807e84ac",
   "metadata": {},
   "outputs": [
    {
     "data": {
      "text/plain": [
       "{'name': 'Paul',\n",
       " 'location': 'Carlow',\n",
       " 'age': 31,\n",
       " 'employer': 'SETU',\n",
       " 'likes': ['Python', 'Guitar', 'Arsenal', 'Books', 'The Dog'],\n",
       " 'details': {'bank': 'PTSB', 'account': 'current', 'balance': 'unknown'},\n",
       " 'outlook': 'sunny'}"
      ]
     },
     "execution_count": 45,
     "metadata": {},
     "output_type": "execute_result"
    }
   ],
   "source": [
    "person"
   ]
  },
  {
   "cell_type": "code",
   "execution_count": 46,
   "id": "35fd0db1-f0d7-4f41-bf86-4a0c3724866c",
   "metadata": {},
   "outputs": [],
   "source": [
    "person3 = person.copy()"
   ]
  },
  {
   "cell_type": "code",
   "execution_count": 47,
   "id": "8e3b66dc-afdb-4648-a500-e2b3f62ce631",
   "metadata": {},
   "outputs": [
    {
     "data": {
      "text/plain": [
       "{'name': 'Paul',\n",
       " 'location': 'Carlow',\n",
       " 'age': 31,\n",
       " 'employer': 'SETU',\n",
       " 'likes': ['Python', 'Guitar', 'Arsenal', 'Books', 'The Dog'],\n",
       " 'details': {'bank': 'PTSB', 'account': 'current', 'balance': 'unknown'},\n",
       " 'outlook': 'sunny'}"
      ]
     },
     "execution_count": 47,
     "metadata": {},
     "output_type": "execute_result"
    }
   ],
   "source": [
    "person3"
   ]
  },
  {
   "cell_type": "code",
   "execution_count": 48,
   "id": "18fc8507-a348-45be-8316-cfcf332cf679",
   "metadata": {},
   "outputs": [],
   "source": [
    "person3[\"BFF\"] = \"Fred\""
   ]
  },
  {
   "cell_type": "code",
   "execution_count": 49,
   "id": "caf4b3d0-5e96-45f3-a269-21e14530dd2e",
   "metadata": {},
   "outputs": [
    {
     "data": {
      "text/plain": [
       "{'name': 'Paul',\n",
       " 'location': 'Carlow',\n",
       " 'age': 31,\n",
       " 'employer': 'SETU',\n",
       " 'likes': ['Python', 'Guitar', 'Arsenal', 'Books', 'The Dog'],\n",
       " 'details': {'bank': 'PTSB', 'account': 'current', 'balance': 'unknown'},\n",
       " 'outlook': 'sunny',\n",
       " 'BFF': 'Fred'}"
      ]
     },
     "execution_count": 49,
     "metadata": {},
     "output_type": "execute_result"
    }
   ],
   "source": [
    "person3"
   ]
  },
  {
   "cell_type": "code",
   "execution_count": 50,
   "id": "24e78603-9d29-49cb-8395-bbfeb4ba605a",
   "metadata": {},
   "outputs": [
    {
     "data": {
      "text/plain": [
       "{'name': 'Paul',\n",
       " 'location': 'Carlow',\n",
       " 'age': 31,\n",
       " 'employer': 'SETU',\n",
       " 'likes': ['Python', 'Guitar', 'Arsenal', 'Books', 'The Dog'],\n",
       " 'details': {'bank': 'PTSB', 'account': 'current', 'balance': 'unknown'},\n",
       " 'outlook': 'sunny'}"
      ]
     },
     "execution_count": 50,
     "metadata": {},
     "output_type": "execute_result"
    }
   ],
   "source": [
    "person"
   ]
  },
  {
   "cell_type": "code",
   "execution_count": 51,
   "id": "22522923-0fa0-4d7e-b26d-14c5791b1f87",
   "metadata": {},
   "outputs": [
    {
     "name": "stdout",
     "output_type": "stream",
     "text": [
      "['__class__', '__class_getitem__', '__contains__', '__delattr__', '__delitem__', '__dir__', '__doc__', '__eq__', '__format__', '__ge__', '__getattribute__', '__getitem__', '__getstate__', '__gt__', '__hash__', '__init__', '__init_subclass__', '__ior__', '__iter__', '__le__', '__len__', '__lt__', '__ne__', '__new__', '__or__', '__reduce__', '__reduce_ex__', '__repr__', '__reversed__', '__ror__', '__setattr__', '__setitem__', '__sizeof__', '__str__', '__subclasshook__', 'clear', 'copy', 'fromkeys', 'get', 'items', 'keys', 'pop', 'popitem', 'setdefault', 'update', 'values']\n"
     ]
    }
   ],
   "source": [
    "print(dir(person))"
   ]
  },
  {
   "cell_type": "code",
   "execution_count": 52,
   "id": "f3efda21-894a-48d3-8766-9206eb76e907",
   "metadata": {},
   "outputs": [
    {
     "name": "stdout",
     "output_type": "stream",
     "text": [
      "Help on built-in function fromkeys:\n",
      "\n",
      "fromkeys(iterable, value=None, /) class method of builtins.dict\n",
      "    Create a new dictionary with keys from iterable and values set to value.\n",
      "\n"
     ]
    }
   ],
   "source": [
    "help(person.fromkeys)"
   ]
  },
  {
   "cell_type": "code",
   "execution_count": 54,
   "id": "a355579b-c50e-4dc8-be2b-74fa59b2f530",
   "metadata": {},
   "outputs": [
    {
     "data": {
      "text/plain": [
       "{'1': None, '0': None}"
      ]
     },
     "execution_count": 54,
     "metadata": {},
     "output_type": "execute_result"
    }
   ],
   "source": [
    "person.fromkeys(\"10\")"
   ]
  },
  {
   "cell_type": "raw",
   "id": "010128a9-3b28-46d2-a4ae-34f89da97643",
   "metadata": {},
   "source": [
    "person"
   ]
  },
  {
   "cell_type": "code",
   "execution_count": 55,
   "id": "02a4a1d6-c60e-4707-828e-e192d45fef75",
   "metadata": {},
   "outputs": [],
   "source": [
    "person = person2"
   ]
  },
  {
   "cell_type": "code",
   "execution_count": 56,
   "id": "97739b98-ebd9-4a94-b8bb-2fe5b1f1a4ee",
   "metadata": {},
   "outputs": [
    {
     "data": {
      "text/plain": [
       "{'name': 'Paul',\n",
       " 'location': 'Carlow',\n",
       " 'age': 31,\n",
       " 'employer': 'SETU',\n",
       " 'likes': ['Python', 'Guitar', 'Arsenal', 'Books', 'The Dog'],\n",
       " 'details': {'bank': 'PTSB', 'account': 'current', 'balance': 'unknown'},\n",
       " 'outlook': 'sunny'}"
      ]
     },
     "execution_count": 56,
     "metadata": {},
     "output_type": "execute_result"
    }
   ],
   "source": [
    "person"
   ]
  },
  {
   "cell_type": "code",
   "execution_count": 57,
   "id": "f88e3648-f4d3-4020-9d19-9312aeb7b914",
   "metadata": {},
   "outputs": [
    {
     "data": {
      "text/plain": [
       "{'name': 'Paul',\n",
       " 'location': 'Carlow',\n",
       " 'age': 31,\n",
       " 'employer': 'SETU',\n",
       " 'likes': ['Python', 'Guitar', 'Arsenal', 'Books', 'The Dog'],\n",
       " 'details': {'bank': 'PTSB', 'account': 'current', 'balance': 'unknown'},\n",
       " 'outlook': 'sunny'}"
      ]
     },
     "execution_count": 57,
     "metadata": {},
     "output_type": "execute_result"
    }
   ],
   "source": [
    "person"
   ]
  },
  {
   "cell_type": "code",
   "execution_count": 58,
   "id": "7a937349-a7da-40e4-b851-936ae2b508ad",
   "metadata": {},
   "outputs": [
    {
     "data": {
      "text/plain": [
       "'sunny'"
      ]
     },
     "execution_count": 58,
     "metadata": {},
     "output_type": "execute_result"
    }
   ],
   "source": [
    "person[\"outlook\"]"
   ]
  },
  {
   "cell_type": "code",
   "execution_count": 59,
   "id": "a4da1118-8192-4e33-9d16-9b392a4c2ac9",
   "metadata": {},
   "outputs": [
    {
     "data": {
      "text/plain": [
       "'sunny'"
      ]
     },
     "execution_count": 59,
     "metadata": {},
     "output_type": "execute_result"
    }
   ],
   "source": [
    "person.get(\"outlook\")"
   ]
  },
  {
   "cell_type": "code",
   "execution_count": 60,
   "id": "1ccb3df6-a7da-4fef-9007-feb6881a4188",
   "metadata": {},
   "outputs": [
    {
     "ename": "KeyError",
     "evalue": "'married to'",
     "output_type": "error",
     "traceback": [
      "\u001b[31m---------------------------------------------------------------------------\u001b[39m",
      "\u001b[31mKeyError\u001b[39m                                  Traceback (most recent call last)",
      "\u001b[36mCell\u001b[39m\u001b[36m \u001b[39m\u001b[32mIn[60]\u001b[39m\u001b[32m, line 1\u001b[39m\n\u001b[32m----> \u001b[39m\u001b[32m1\u001b[39m \u001b[43mperson\u001b[49m\u001b[43m[\u001b[49m\u001b[33;43m\"\u001b[39;49m\u001b[33;43mmarried to\u001b[39;49m\u001b[33;43m\"\u001b[39;49m\u001b[43m]\u001b[49m\n",
      "\u001b[31mKeyError\u001b[39m: 'married to'"
     ]
    }
   ],
   "source": [
    "person[\"married to\"]"
   ]
  },
  {
   "cell_type": "code",
   "execution_count": 61,
   "id": "34cf7fce-5642-4153-9308-66098fb7e28b",
   "metadata": {},
   "outputs": [],
   "source": [
    "person.get(\"married to\")"
   ]
  },
  {
   "cell_type": "code",
   "execution_count": 62,
   "id": "69b44817-74e5-4fdd-b89c-b5322b7c7eba",
   "metadata": {},
   "outputs": [
    {
     "data": {
      "text/plain": [
       "{'name': 'Paul',\n",
       " 'location': 'Carlow',\n",
       " 'age': 31,\n",
       " 'employer': 'SETU',\n",
       " 'likes': ['Python', 'Guitar', 'Arsenal', 'Books', 'The Dog'],\n",
       " 'details': {'bank': 'PTSB', 'account': 'current', 'balance': 'unknown'},\n",
       " 'outlook': 'sunny'}"
      ]
     },
     "execution_count": 62,
     "metadata": {},
     "output_type": "execute_result"
    }
   ],
   "source": [
    "person"
   ]
  },
  {
   "cell_type": "code",
   "execution_count": 63,
   "id": "a2c12765-84e1-4ad1-9353-8088819c2fab",
   "metadata": {},
   "outputs": [
    {
     "data": {
      "text/plain": [
       "'not known'"
      ]
     },
     "execution_count": 63,
     "metadata": {},
     "output_type": "execute_result"
    }
   ],
   "source": [
    "person.get(\"married to\", \"not known\")"
   ]
  },
  {
   "cell_type": "code",
   "execution_count": 64,
   "id": "de07931a-dbc0-49f6-8716-2b6e1324bbef",
   "metadata": {},
   "outputs": [
    {
     "data": {
      "text/plain": [
       "{'name': 'Paul',\n",
       " 'location': 'Carlow',\n",
       " 'age': 31,\n",
       " 'employer': 'SETU',\n",
       " 'likes': ['Python', 'Guitar', 'Arsenal', 'Books', 'The Dog'],\n",
       " 'details': {'bank': 'PTSB', 'account': 'current', 'balance': 'unknown'},\n",
       " 'outlook': 'sunny'}"
      ]
     },
     "execution_count": 64,
     "metadata": {},
     "output_type": "execute_result"
    }
   ],
   "source": [
    "person"
   ]
  },
  {
   "cell_type": "code",
   "execution_count": 65,
   "id": "b02f5cc0-8648-4db3-82ee-1406c38d9c49",
   "metadata": {},
   "outputs": [
    {
     "data": {
      "text/plain": [
       "dict_keys(['name', 'location', 'age', 'employer', 'likes', 'details', 'outlook'])"
      ]
     },
     "execution_count": 65,
     "metadata": {},
     "output_type": "execute_result"
    }
   ],
   "source": [
    "person.keys()"
   ]
  },
  {
   "cell_type": "code",
   "execution_count": 66,
   "id": "814ea181-c328-40c1-9a3d-0634883d8827",
   "metadata": {},
   "outputs": [
    {
     "name": "stdout",
     "output_type": "stream",
     "text": [
      "['__and__', '__class__', '__contains__', '__delattr__', '__dir__', '__doc__', '__eq__', '__format__', '__ge__', '__getattribute__', '__getstate__', '__gt__', '__hash__', '__init__', '__init_subclass__', '__iter__', '__le__', '__len__', '__lt__', '__ne__', '__new__', '__or__', '__rand__', '__reduce__', '__reduce_ex__', '__repr__', '__reversed__', '__ror__', '__rsub__', '__rxor__', '__setattr__', '__sizeof__', '__str__', '__sub__', '__subclasshook__', '__xor__', 'isdisjoint', 'mapping']\n"
     ]
    }
   ],
   "source": [
    "print(dir(person.keys()))"
   ]
  },
  {
   "cell_type": "code",
   "execution_count": 67,
   "id": "fa6606f9-08b1-483a-9c2b-63657ea6f9d6",
   "metadata": {},
   "outputs": [
    {
     "data": {
      "text/plain": [
       "['name', 'location', 'age', 'employer', 'likes', 'details', 'outlook']"
      ]
     },
     "execution_count": 67,
     "metadata": {},
     "output_type": "execute_result"
    }
   ],
   "source": [
    "list(person.keys())"
   ]
  },
  {
   "cell_type": "code",
   "execution_count": 68,
   "id": "cb72b973-5979-4d1c-be91-86eace2b9647",
   "metadata": {},
   "outputs": [
    {
     "data": {
      "text/plain": [
       "['Paul',\n",
       " 'Carlow',\n",
       " 31,\n",
       " 'SETU',\n",
       " ['Python', 'Guitar', 'Arsenal', 'Books', 'The Dog'],\n",
       " {'bank': 'PTSB', 'account': 'current', 'balance': 'unknown'},\n",
       " 'sunny']"
      ]
     },
     "execution_count": 68,
     "metadata": {},
     "output_type": "execute_result"
    }
   ],
   "source": [
    "list(person.values())"
   ]
  },
  {
   "cell_type": "code",
   "execution_count": 69,
   "id": "fccbaf17-0b46-4903-ae90-3c3ea63114d5",
   "metadata": {},
   "outputs": [
    {
     "data": {
      "text/plain": [
       "dict_items([('name', 'Paul'), ('location', 'Carlow'), ('age', 31), ('employer', 'SETU'), ('likes', ['Python', 'Guitar', 'Arsenal', 'Books', 'The Dog']), ('details', {'bank': 'PTSB', 'account': 'current', 'balance': 'unknown'}), ('outlook', 'sunny')])"
      ]
     },
     "execution_count": 69,
     "metadata": {},
     "output_type": "execute_result"
    }
   ],
   "source": [
    "person.items()"
   ]
  },
  {
   "cell_type": "code",
   "execution_count": 70,
   "id": "dd93d4f8-e0a3-4b30-8870-20dd444a3b00",
   "metadata": {},
   "outputs": [
    {
     "data": {
      "text/plain": [
       "[('name', 'Paul'),\n",
       " ('location', 'Carlow'),\n",
       " ('age', 31),\n",
       " ('employer', 'SETU'),\n",
       " ('likes', ['Python', 'Guitar', 'Arsenal', 'Books', 'The Dog']),\n",
       " ('details', {'bank': 'PTSB', 'account': 'current', 'balance': 'unknown'}),\n",
       " ('outlook', 'sunny')]"
      ]
     },
     "execution_count": 70,
     "metadata": {},
     "output_type": "execute_result"
    }
   ],
   "source": [
    "list(person.items())"
   ]
  },
  {
   "cell_type": "code",
   "execution_count": 73,
   "id": "62942dd4-05a2-4603-a1ad-c2caca030a0c",
   "metadata": {},
   "outputs": [
    {
     "name": "stdout",
     "output_type": "stream",
     "text": [
      "name is associated with Paul\n",
      "location is associated with Carlow\n",
      "age is associated with 31\n",
      "employer is associated with SETU\n",
      "likes is associated with ['Python', 'Guitar', 'Arsenal', 'Books', 'The Dog']\n",
      "details is associated with {'bank': 'PTSB', 'account': 'current', 'balance': 'unknown'}\n",
      "outlook is associated with sunny\n"
     ]
    }
   ],
   "source": [
    "for k, v in person.items():\n",
    "    print(k, \"is associated with\", v)"
   ]
  },
  {
   "cell_type": "code",
   "execution_count": 75,
   "id": "720488eb-f865-4eef-a2d6-2dc759587340",
   "metadata": {},
   "outputs": [
    {
     "name": "stdout",
     "output_type": "stream",
     "text": [
      "['__class__', '__class_getitem__', '__contains__', '__delattr__', '__delitem__', '__dir__', '__doc__', '__eq__', '__format__', '__ge__', '__getattribute__', '__getitem__', '__getstate__', '__gt__', '__hash__', '__init__', '__init_subclass__', '__ior__', '__iter__', '__le__', '__len__', '__lt__', '__ne__', '__new__', '__or__', '__reduce__', '__reduce_ex__', '__repr__', '__reversed__', '__ror__', '__setattr__', '__setitem__', '__sizeof__', '__str__', '__subclasshook__', 'clear', 'copy', 'fromkeys', 'get', 'items', 'keys', 'pop', 'popitem', 'setdefault', 'update', 'values']\n"
     ]
    }
   ],
   "source": [
    "print(dir(person))"
   ]
  },
  {
   "cell_type": "code",
   "execution_count": 76,
   "id": "b0fa1676-a86a-406a-9e90-56f503cd2d21",
   "metadata": {},
   "outputs": [
    {
     "data": {
      "text/plain": [
       "'SETU'"
      ]
     },
     "execution_count": 76,
     "metadata": {},
     "output_type": "execute_result"
    }
   ],
   "source": [
    "person.pop(\"employer\")"
   ]
  },
  {
   "cell_type": "code",
   "execution_count": 79,
   "id": "17981037-1e67-4938-a08f-441d1ae25ed0",
   "metadata": {},
   "outputs": [
    {
     "data": {
      "text/plain": [
       "{'name': 'Paul',\n",
       " 'location': 'Carlow',\n",
       " 'age': 31,\n",
       " 'likes': ['Python', 'Guitar', 'Arsenal', 'Books', 'The Dog'],\n",
       " 'details': {'bank': 'PTSB', 'account': 'current', 'balance': 'unknown'},\n",
       " 'outlook': 'sunny'}"
      ]
     },
     "execution_count": 79,
     "metadata": {},
     "output_type": "execute_result"
    }
   ],
   "source": [
    "person"
   ]
  },
  {
   "cell_type": "code",
   "execution_count": 80,
   "id": "7da76ff7-9290-4c5a-b51b-31414ca5ff6b",
   "metadata": {},
   "outputs": [
    {
     "data": {
      "text/plain": [
       "('outlook', 'sunny')"
      ]
     },
     "execution_count": 80,
     "metadata": {},
     "output_type": "execute_result"
    }
   ],
   "source": [
    "person.popitem()"
   ]
  },
  {
   "cell_type": "code",
   "execution_count": 81,
   "id": "3933ecde-21f0-43e1-99f2-9e19899dad06",
   "metadata": {},
   "outputs": [
    {
     "data": {
      "text/plain": [
       "{'name': 'Paul',\n",
       " 'location': 'Carlow',\n",
       " 'age': 31,\n",
       " 'likes': ['Python', 'Guitar', 'Arsenal', 'Books', 'The Dog'],\n",
       " 'details': {'bank': 'PTSB', 'account': 'current', 'balance': 'unknown'}}"
      ]
     },
     "execution_count": 81,
     "metadata": {},
     "output_type": "execute_result"
    }
   ],
   "source": [
    "person"
   ]
  },
  {
   "cell_type": "code",
   "execution_count": 82,
   "id": "d1dfefe4-05a3-4b4f-b76f-4b807c528663",
   "metadata": {},
   "outputs": [
    {
     "data": {
      "text/plain": [
       "('details', {'bank': 'PTSB', 'account': 'current', 'balance': 'unknown'})"
      ]
     },
     "execution_count": 82,
     "metadata": {},
     "output_type": "execute_result"
    }
   ],
   "source": [
    "person.popitem()"
   ]
  },
  {
   "cell_type": "code",
   "execution_count": 83,
   "id": "69a4a9a9-de05-4950-9ab2-644a6afee730",
   "metadata": {},
   "outputs": [
    {
     "name": "stdout",
     "output_type": "stream",
     "text": [
      "['__class__', '__class_getitem__', '__contains__', '__delattr__', '__delitem__', '__dir__', '__doc__', '__eq__', '__format__', '__ge__', '__getattribute__', '__getitem__', '__getstate__', '__gt__', '__hash__', '__init__', '__init_subclass__', '__ior__', '__iter__', '__le__', '__len__', '__lt__', '__ne__', '__new__', '__or__', '__reduce__', '__reduce_ex__', '__repr__', '__reversed__', '__ror__', '__setattr__', '__setitem__', '__sizeof__', '__str__', '__subclasshook__', 'clear', 'copy', 'fromkeys', 'get', 'items', 'keys', 'pop', 'popitem', 'setdefault', 'update', 'values']\n"
     ]
    }
   ],
   "source": [
    "print(dir(person))"
   ]
  },
  {
   "cell_type": "code",
   "execution_count": 84,
   "id": "31adf6f9-cd6d-4674-a368-28a9b3afa6a7",
   "metadata": {},
   "outputs": [
    {
     "name": "stdout",
     "output_type": "stream",
     "text": [
      "Help on built-in function update:\n",
      "\n",
      "update(...) method of builtins.dict instance\n",
      "    D.update([E, ]**F) -> None.  Update D from mapping/iterable E and F.\n",
      "    If E is present and has a .keys() method, then does:  for k in E.keys(): D[k] = E[k]\n",
      "    If E is present and lacks a .keys() method, then does:  for k, v in E: D[k] = v\n",
      "    In either case, this is followed by: for k in F:  D[k] = F[k]\n",
      "\n"
     ]
    }
   ],
   "source": [
    "help(person.update)"
   ]
  },
  {
   "cell_type": "code",
   "execution_count": 88,
   "id": "9059d3eb-06f4-4ae5-8d89-8a873ca48ed0",
   "metadata": {},
   "outputs": [],
   "source": [
    "book = \"So long and thanks for all the fish.\""
   ]
  },
  {
   "cell_type": "code",
   "execution_count": 89,
   "id": "9289f74f-01b4-4374-837f-80e4af58ed26",
   "metadata": {},
   "outputs": [],
   "source": [
    "freqs = {}"
   ]
  },
  {
   "cell_type": "code",
   "execution_count": 90,
   "id": "0d2dc694-86c2-45fe-9617-236c7648f880",
   "metadata": {},
   "outputs": [
    {
     "ename": "KeyError",
     "evalue": "'S'",
     "output_type": "error",
     "traceback": [
      "\u001b[31m---------------------------------------------------------------------------\u001b[39m",
      "\u001b[31mKeyError\u001b[39m                                  Traceback (most recent call last)",
      "\u001b[36mCell\u001b[39m\u001b[36m \u001b[39m\u001b[32mIn[90]\u001b[39m\u001b[32m, line 2\u001b[39m\n\u001b[32m      1\u001b[39m \u001b[38;5;28;01mfor\u001b[39;00m letter \u001b[38;5;129;01min\u001b[39;00m book:\n\u001b[32m----> \u001b[39m\u001b[32m2\u001b[39m     freqs[letter] = \u001b[43mfreqs\u001b[49m\u001b[43m \u001b[49m\u001b[43m[\u001b[49m\u001b[43mletter\u001b[49m\u001b[43m]\u001b[49m + \u001b[32m1\u001b[39m\n",
      "\u001b[31mKeyError\u001b[39m: 'S'"
     ]
    }
   ],
   "source": [
    "for letter in book:\n",
    "    freqs[letter] = freqs [letter] + 1"
   ]
  },
  {
   "cell_type": "code",
   "execution_count": 91,
   "id": "94d2b759-c6ce-4c4d-b52b-2a742ce0c87f",
   "metadata": {},
   "outputs": [],
   "source": [
    "for letter in book:\n",
    "    freqs[letter] = 0\n",
    "    freqs[letter] = freqs [letter] + 1"
   ]
  },
  {
   "cell_type": "code",
   "execution_count": 92,
   "id": "7bfff39d-de05-4930-a1b0-dac89e05ed34",
   "metadata": {},
   "outputs": [
    {
     "data": {
      "text/plain": [
       "{'S': 1,\n",
       " 'o': 1,\n",
       " ' ': 1,\n",
       " 'l': 1,\n",
       " 'n': 1,\n",
       " 'g': 1,\n",
       " 'a': 1,\n",
       " 'd': 1,\n",
       " 't': 1,\n",
       " 'h': 1,\n",
       " 'k': 1,\n",
       " 's': 1,\n",
       " 'f': 1,\n",
       " 'r': 1,\n",
       " 'e': 1,\n",
       " 'i': 1,\n",
       " '.': 1}"
      ]
     },
     "execution_count": 92,
     "metadata": {},
     "output_type": "execute_result"
    }
   ],
   "source": [
    "freqs"
   ]
  },
  {
   "cell_type": "code",
   "execution_count": 93,
   "id": "b41ef5f7-41e1-4875-815f-914ae2c358a1",
   "metadata": {},
   "outputs": [],
   "source": [
    "freqs = {}\n",
    "for letter in book:\n",
    "    if letter not in freqs.keys():\n",
    "        freqs[letter] = 0\n",
    "    freqs[letter] = freqs [letter] + 1"
   ]
  },
  {
   "cell_type": "code",
   "execution_count": 94,
   "id": "8015409a-5a88-41ad-976b-8c7484ff40d3",
   "metadata": {},
   "outputs": [
    {
     "data": {
      "text/plain": [
       "{'S': 1,\n",
       " 'o': 3,\n",
       " ' ': 7,\n",
       " 'l': 3,\n",
       " 'n': 3,\n",
       " 'g': 1,\n",
       " 'a': 3,\n",
       " 'd': 1,\n",
       " 't': 2,\n",
       " 'h': 3,\n",
       " 'k': 1,\n",
       " 's': 2,\n",
       " 'f': 2,\n",
       " 'r': 1,\n",
       " 'e': 1,\n",
       " 'i': 1,\n",
       " '.': 1}"
      ]
     },
     "execution_count": 94,
     "metadata": {},
     "output_type": "execute_result"
    }
   ],
   "source": [
    "freqs"
   ]
  },
  {
   "cell_type": "code",
   "execution_count": 95,
   "id": "d2456535-b927-4987-8bdb-50d49cfcc2b7",
   "metadata": {},
   "outputs": [
    {
     "data": {
      "text/plain": [
       "'So long and thanks for all the fish.'"
      ]
     },
     "execution_count": 95,
     "metadata": {},
     "output_type": "execute_result"
    }
   ],
   "source": [
    "book"
   ]
  },
  {
   "cell_type": "code",
   "execution_count": 97,
   "id": "c66f7456-ed0c-42b8-82e8-24102952644e",
   "metadata": {},
   "outputs": [],
   "source": [
    "freqs = {}\n",
    "for letter in book:\n",
    "    if letter not in freqs.keys():\n",
    "        freqs[letter] = 0\n",
    "    freqs[letter] = freqs [letter] + 1"
   ]
  },
  {
   "cell_type": "code",
   "execution_count": 99,
   "id": "dc293c64-92ac-4568-847a-202220423fa4",
   "metadata": {},
   "outputs": [],
   "source": [
    "freqs = {}\n",
    "for letter in book:\n",
    "    freqs.setdefault(letter, 0)\n",
    "    freqs[letter] = freqs [letter] + 1"
   ]
  },
  {
   "cell_type": "code",
   "execution_count": 100,
   "id": "4221349c-57d8-46e9-9f5d-059977bc0005",
   "metadata": {},
   "outputs": [
    {
     "data": {
      "text/plain": [
       "{'S': 1,\n",
       " 'o': 3,\n",
       " ' ': 7,\n",
       " 'l': 3,\n",
       " 'n': 3,\n",
       " 'g': 1,\n",
       " 'a': 3,\n",
       " 'd': 1,\n",
       " 't': 2,\n",
       " 'h': 3,\n",
       " 'k': 1,\n",
       " 's': 2,\n",
       " 'f': 2,\n",
       " 'r': 1,\n",
       " 'e': 1,\n",
       " 'i': 1,\n",
       " '.': 1}"
      ]
     },
     "execution_count": 100,
     "metadata": {},
     "output_type": "execute_result"
    }
   ],
   "source": [
    "freqs"
   ]
  },
  {
   "cell_type": "code",
   "execution_count": 101,
   "id": "c21617f1-00a8-4c38-83fc-a8ab10a1e077",
   "metadata": {},
   "outputs": [],
   "source": [
    "from collections import Counter\n",
    "\n",
    "c = Counter(book)"
   ]
  },
  {
   "cell_type": "code",
   "execution_count": 102,
   "id": "317a42e3-d45b-4a3d-b3b2-1e05130d7d7f",
   "metadata": {},
   "outputs": [
    {
     "data": {
      "text/plain": [
       "Counter({' ': 7,\n",
       "         'o': 3,\n",
       "         'l': 3,\n",
       "         'n': 3,\n",
       "         'a': 3,\n",
       "         'h': 3,\n",
       "         't': 2,\n",
       "         's': 2,\n",
       "         'f': 2,\n",
       "         'S': 1,\n",
       "         'g': 1,\n",
       "         'd': 1,\n",
       "         'k': 1,\n",
       "         'r': 1,\n",
       "         'e': 1,\n",
       "         'i': 1,\n",
       "         '.': 1})"
      ]
     },
     "execution_count": 102,
     "metadata": {},
     "output_type": "execute_result"
    }
   ],
   "source": [
    "c"
   ]
  },
  {
   "cell_type": "code",
   "execution_count": 103,
   "id": "6b4954e0-286e-4dc1-a689-c83679f83765",
   "metadata": {},
   "outputs": [
    {
     "data": {
      "text/plain": [
       "collections.Counter"
      ]
     },
     "execution_count": 103,
     "metadata": {},
     "output_type": "execute_result"
    }
   ],
   "source": [
    "type(c)"
   ]
  },
  {
   "cell_type": "code",
   "execution_count": 104,
   "id": "071d4fce-984f-448d-ac80-48483fbdf390",
   "metadata": {},
   "outputs": [
    {
     "name": "stdout",
     "output_type": "stream",
     "text": [
      "['__add__', '__and__', '__class__', '__class_getitem__', '__contains__', '__delattr__', '__delitem__', '__dict__', '__dir__', '__doc__', '__eq__', '__firstlineno__', '__format__', '__ge__', '__getattribute__', '__getitem__', '__getstate__', '__gt__', '__hash__', '__iadd__', '__iand__', '__init__', '__init_subclass__', '__ior__', '__isub__', '__iter__', '__le__', '__len__', '__lt__', '__missing__', '__module__', '__ne__', '__neg__', '__new__', '__or__', '__pos__', '__reduce__', '__reduce_ex__', '__repr__', '__reversed__', '__ror__', '__setattr__', '__setitem__', '__sizeof__', '__static_attributes__', '__str__', '__sub__', '__subclasshook__', '__weakref__', '_keep_positive', 'clear', 'copy', 'elements', 'fromkeys', 'get', 'items', 'keys', 'most_common', 'pop', 'popitem', 'setdefault', 'subtract', 'total', 'update', 'values']\n"
     ]
    }
   ],
   "source": [
    "print(dir(c))"
   ]
  },
  {
   "cell_type": "code",
   "execution_count": 105,
   "id": "6812cb33-7f20-4051-bf48-54cd4c81b35f",
   "metadata": {},
   "outputs": [
    {
     "data": {
      "text/plain": [
       "[(' ', 7), ('o', 3), ('l', 3), ('n', 3), ('a', 3)]"
      ]
     },
     "execution_count": 105,
     "metadata": {},
     "output_type": "execute_result"
    }
   ],
   "source": [
    "c.most_common(5)"
   ]
  },
  {
   "cell_type": "code",
   "execution_count": 106,
   "id": "d9122fc1-c389-47f9-9df0-888c893020c8",
   "metadata": {},
   "outputs": [
    {
     "data": {
      "text/plain": [
       "36"
      ]
     },
     "execution_count": 106,
     "metadata": {},
     "output_type": "execute_result"
    }
   ],
   "source": [
    "c.total()"
   ]
  },
  {
   "cell_type": "code",
   "execution_count": 107,
   "id": "1f350d1c-3890-4093-9740-10b26fe7fee5",
   "metadata": {},
   "outputs": [
    {
     "data": {
      "text/plain": [
       "36"
      ]
     },
     "execution_count": 107,
     "metadata": {},
     "output_type": "execute_result"
    }
   ],
   "source": [
    "len(book)"
   ]
  },
  {
   "cell_type": "code",
   "execution_count": 108,
   "id": "ee855177-7e42-48f7-a989-f135808f5668",
   "metadata": {},
   "outputs": [
    {
     "name": "stdout",
     "output_type": "stream",
     "text": [
      "['__class__', '__class_getitem__', '__contains__', '__delattr__', '__delitem__', '__dir__', '__doc__', '__eq__', '__format__', '__ge__', '__getattribute__', '__getitem__', '__getstate__', '__gt__', '__hash__', '__init__', '__init_subclass__', '__ior__', '__iter__', '__le__', '__len__', '__lt__', '__ne__', '__new__', '__or__', '__reduce__', '__reduce_ex__', '__repr__', '__reversed__', '__ror__', '__setattr__', '__setitem__', '__sizeof__', '__str__', '__subclasshook__', 'clear', 'copy', 'fromkeys', 'get', 'items', 'keys', 'pop', 'popitem', 'setdefault', 'update', 'values']\n"
     ]
    }
   ],
   "source": [
    "print(dir(person))"
   ]
  },
  {
   "cell_type": "code",
   "execution_count": null,
   "id": "88a1b896-c4ff-4dca-8c0e-53172d94ffd2",
   "metadata": {},
   "outputs": [],
   "source": []
  }
 ],
 "metadata": {
  "kernelspec": {
   "display_name": "Python 3 (ipykernel)",
   "language": "python",
   "name": "python3"
  },
  "language_info": {
   "codemirror_mode": {
    "name": "ipython",
    "version": 3
   },
   "file_extension": ".py",
   "mimetype": "text/x-python",
   "name": "python",
   "nbconvert_exporter": "python",
   "pygments_lexer": "ipython3",
   "version": "3.13.7"
  }
 },
 "nbformat": 4,
 "nbformat_minor": 5
}
